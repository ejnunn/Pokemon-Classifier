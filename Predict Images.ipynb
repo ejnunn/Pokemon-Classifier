{
 "cells": [
  {
   "cell_type": "code",
   "execution_count": 1,
   "metadata": {},
   "outputs": [],
   "source": [
    "import cv2\n",
    "import tensorflow as tf\n",
    "import glob\n",
    "import os"
   ]
  },
  {
   "cell_type": "code",
   "execution_count": 2,
   "metadata": {},
   "outputs": [],
   "source": [
    "CATEGORIES = ['Bulbasaur', 'Charmander', 'Mewtwo', 'Pikachu', 'Squirtle']\n",
    "\n",
    "def prepare(filepath):\n",
    "    IMG_SIZE = 50\n",
    "    img_array = cv2.imread(filepath, cv2.IMREAD_GRAYSCALE)\n",
    "    img_array = img_array/255.0\n",
    "    new_array = cv2.resize(img_array, (IMG_SIZE, IMG_SIZE))\n",
    "    return new_array.reshape(-1, IMG_SIZE, IMG_SIZE, 1)"
   ]
  },
  {
   "cell_type": "code",
   "execution_count": 3,
   "metadata": {},
   "outputs": [],
   "source": [
    "# Load pre-trained model\n",
    "model_name = 'models/2-conv-64-nodes-0-dense-1573176707' # FIXME - find better way to select model (ex. always use most recent model)\n",
    "model = tf.keras.models.load_model(model_name)"
   ]
  },
  {
   "cell_type": "code",
   "execution_count": null,
   "metadata": {},
   "outputs": [],
   "source": [
    "# Folder contains subfolders of all Pokemon categories\n",
    "DATADIR = 'dataset/'\n",
    "\n",
    "# all categories of Pokemon to train on\n",
    "CATEGORIES = ['Bulbasaur', 'Charmander', 'Mewtwo', 'Pikachu', 'Squirtle'] # FIXME - Change to 'list of all directory names' so the Pokemon categories can change fluidly\n",
    "print('Categories:', len(CATEGORIES))\n",
    "\n",
    "# Get filepath of training data\n",
    "path = os.path.join(DATADIR, CATEGORIES[0])\n",
    "\n",
    "# Read in one image from the filepath\n",
    "img = cv2.imread(os.path.join(path, os.listdir(path)[1]), cv2.IMREAD_GRAYSCALE) # rgb colors are read in different order\n",
    "\n",
    "# Plot the image\n",
    "plt.title('Training example (original size)')\n",
    "plt.imshow(img, cmap='gray')\n",
    "plt.show()\n",
    "print('Original Size =', img.shape)"
   ]
  },
  {
   "cell_type": "code",
   "execution_count": null,
   "metadata": {},
   "outputs": [],
   "source": [
    "IMG_SIZE = 50\n",
    "\n",
    "new_array = cv2.resize(img, (IMG_SIZE, IMG_SIZE))\n",
    "plt.title('Training example (reshaped)')\n",
    "plt.imshow(new_array, cmap='gray')\n",
    "plt.show()\n",
    "print('New Size =', img.shape)"
   ]
  },
  {
   "cell_type": "code",
   "execution_count": 10,
   "metadata": {},
   "outputs": [
    {
     "name": "stdout",
     "output_type": "stream",
     "text": [
      "Predicted: Bulbasaur\n",
      "Actual: Pikachu\n",
      "\n",
      "[[4.74419532e-04 6.45862485e-04 6.40066355e-06 9.98531938e-01\n",
      "  3.41296662e-04 2.27229096e-23 3.15067448e-23 7.40835211e-24\n",
      "  1.76833932e-23 8.87286134e-24 9.42711422e-24 1.08586577e-23\n",
      "  1.38203634e-23 2.81121912e-23 9.66636784e-24 1.65433346e-23\n",
      "  7.96123159e-24 1.06453837e-23 1.42558068e-23 2.92093105e-23\n",
      "  7.59156111e-24 9.17311442e-24 5.16724837e-24 1.10880427e-23\n",
      "  6.79263434e-24 8.55700380e-24 2.36450391e-23 1.29738218e-23\n",
      "  1.18341781e-23 8.65919284e-24 4.87582028e-24 8.66891003e-24\n",
      "  8.23163891e-24 1.47961228e-23 1.08779777e-23 1.16432414e-23\n",
      "  7.95503824e-24 7.55902297e-24 4.06021620e-24 1.52441548e-23\n",
      "  5.01017985e-24 1.06154567e-23 4.92494580e-24 1.61210715e-23\n",
      "  7.32679178e-24 5.62897221e-24 1.23251415e-23 7.49487911e-24\n",
      "  1.33612701e-23 1.45313212e-23 1.06004028e-23 1.79901780e-24\n",
      "  3.18578203e-24 1.01523172e-23 1.00601017e-23 5.51647788e-24\n",
      "  4.16373802e-24 9.62170570e-24 5.48655087e-24 1.01080313e-23\n",
      "  1.34173518e-23 1.42575470e-23 6.17679509e-24 6.25303889e-24\n",
      "  6.44976029e-24 1.04819419e-23 1.20060583e-23 1.23319139e-23\n",
      "  7.84091452e-24 2.09609730e-23 9.80893236e-24 3.64094333e-24\n",
      "  7.98434600e-24 1.22573428e-23 1.56656637e-23 5.30996317e-24\n",
      "  1.07441120e-23 1.32491019e-23 6.85359199e-24 1.05739894e-23\n",
      "  1.35420991e-23 1.39639771e-23 5.63056137e-24 1.00373313e-23\n",
      "  1.34515852e-23 1.59122395e-23 4.02281433e-24 3.87236475e-24\n",
      "  5.68816005e-24 6.65972863e-24 7.97302348e-24 1.69031198e-23\n",
      "  1.16609324e-23 3.83520072e-24 2.03563249e-24 6.11098437e-24\n",
      "  5.63804095e-24 1.16519505e-23 2.94748127e-23 7.55095371e-24\n",
      "  4.95766893e-24 1.18271375e-23 6.91483284e-24 6.45426744e-23\n",
      "  8.96964747e-24 1.17444136e-23 5.16259883e-24 1.00033124e-23\n",
      "  1.27835028e-23 3.34170354e-24 1.80459316e-23 7.33031405e-24\n",
      "  8.92105601e-24 6.95684836e-24 4.99883998e-24 3.72105058e-23\n",
      "  1.09668926e-23 7.85091097e-24 1.04234858e-23 1.16611999e-23\n",
      "  5.91416396e-24 7.29744852e-24 1.81348141e-23 7.36878048e-24\n",
      "  7.74034659e-24 6.65576619e-24 1.76466007e-23 5.18134177e-24\n",
      "  3.66527417e-24 8.06922270e-24 5.21560910e-24 1.11108219e-23\n",
      "  2.31522472e-24 1.59343497e-23 1.09994047e-23 1.03445800e-23\n",
      "  1.16353386e-23 1.77004026e-23 2.02137229e-23 9.25239810e-24\n",
      "  1.26672902e-23 8.74396935e-24 8.32397034e-24 2.71628811e-24\n",
      "  7.82072047e-24 7.80998802e-24 2.12380099e-23 3.83319883e-23\n",
      "  6.49330778e-24 8.36394902e-24 9.95185266e-24]]\n"
     ]
    }
   ],
   "source": [
    "prediction = model.predict([prepare('predict/Pikachu.png')])\n",
    "print('Predicted:', CATEGORIES[int(prediction[0][0])])\n",
    "print('Actual: Pikachu\\n')\n",
    "print(prediction)"
   ]
  },
  {
   "cell_type": "code",
   "execution_count": null,
   "metadata": {},
   "outputs": [],
   "source": []
  }
 ],
 "metadata": {
  "kernelspec": {
   "display_name": "Python 3",
   "language": "python",
   "name": "python3"
  },
  "language_info": {
   "codemirror_mode": {
    "name": "ipython",
    "version": 3
   },
   "file_extension": ".py",
   "mimetype": "text/x-python",
   "name": "python",
   "nbconvert_exporter": "python",
   "pygments_lexer": "ipython3",
   "version": "3.7.4"
  }
 },
 "nbformat": 4,
 "nbformat_minor": 2
}

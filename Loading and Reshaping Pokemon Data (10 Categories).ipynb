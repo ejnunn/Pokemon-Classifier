{
 "cells": [
  {
   "cell_type": "markdown",
   "metadata": {},
   "source": [
    "Load the dataset into the program and show a sample of the Pokemon images being classified."
   ]
  },
  {
   "cell_type": "code",
   "execution_count": 1,
   "metadata": {},
   "outputs": [],
   "source": [
    "import numpy as np\n",
    "import matplotlib.pyplot as plt\n",
    "import os\n",
    "import cv2\n",
    "import pprint\n",
    "import random"
   ]
  },
  {
   "cell_type": "code",
   "execution_count": 3,
   "metadata": {},
   "outputs": [
    {
     "name": "stdout",
     "output_type": "stream",
     "text": [
      "Categories: 5\n"
     ]
    },
    {
     "data": {
      "image/png": "[encoded data removed]",
      "text/plain": [
       "<Figure size 432x288 with 1 Axes>"
      ]
     },
     "metadata": {
      "needs_background": "light"
     },
     "output_type": "display_data"
    },
    {
     "name": "stdout",
     "output_type": "stream",
     "text": [
      "Original Size = (1132, 1057)\n"
     ]
    }
   ],
   "source": [
    "# Example folder contains Abra, Aerodactyl, and Alakazam\n",
    "DATADIR = 'dataset/'\n",
    "\n",
    "# all categories of Pokemon to train on\n",
    "CATEGORIES = ['Bulbasaur', 'Charmander', 'Mewtwo', 'Pikachu', 'Squirtle'] # FIXME - Change to 'list of all directory names' so the Pokemon categories can change fluidly\n",
    "print('Categories:', len(CATEGORIES))\n",
    "\n",
    "# Get filepath of training data\n",
    "path = os.path.join(DATADIR, CATEGORIES[0])\n",
    "\n",
    "# Read in one image from the filepath\n",
    "img = cv2.imread(os.path.join(path, os.listdir(path)[1]), cv2.IMREAD_GRAYSCALE) # rgb colors are read in different order\n",
    "\n",
    "# Plot the image\n",
    "plt.title('Training example (original size)')\n",
    "plt.imshow(img, cmap='gray')\n",
    "plt.show()\n",
    "print('Original Size =', img.shape)"
   ]
  },
  {
   "cell_type": "markdown",
   "metadata": {},
   "source": [
    "Each image has unique dimensions. The neural network assumes all training data has the same dimensions so this means we will need to reshape the data before we can train on it."
   ]
  },
  {
   "cell_type": "code",
   "execution_count": null,
   "metadata": {},
   "outputs": [],
   "source": [
    "IMG_SIZE = 50\n",
    "\n",
    "new_array = cv2.resize(img, (IMG_SIZE, IMG_SIZE))\n",
    "plt.title('Training example (reshaped)')\n",
    "plt.imshow(new_array, cmap='gray')\n",
    "plt.show()\n",
    "print('New Size =', img.shape)"
   ]
  },
  {
   "cell_type": "markdown",
   "metadata": {},
   "source": [
    "Now we need to reshape all of our data so every image is the same size. Let's load in all of our data, reshape it, and add it to our list of training data. (This may take several seconds.)"
   ]
  },
  {
   "cell_type": "code",
   "execution_count": null,
   "metadata": {},
   "outputs": [],
   "source": [
    "# list of standardized training images\n",
    "training_data = []\n",
    "\n",
    "# Reshapes image files and stores the training data, ready for training\n",
    "def create_training_data():\n",
    "    # Loop through each category in training data\n",
    "    for category in CATEGORIES:\n",
    "        # path to pokemon dir\n",
    "        path = os.path.join(DATADIR, category)\n",
    "        # Training label for this category of images\n",
    "        class_num = CATEGORIES.index(category)\n",
    "        # Load each image and reshape it\n",
    "        for img in os.listdir(path):\n",
    "            try:\n",
    "                img_array = cv2.imread(os.path.join(path, img), cv2.IMREAD_GRAYSCALE) # Converts data to greyscale to cut down on computation time needed\n",
    "                new_array = cv2.resize(img_array, (IMG_SIZE, IMG_SIZE))\n",
    "                training_data.append([new_array, class_num])\n",
    "            except:\n",
    "                pass\n",
    "\n",
    "create_training_data()"
   ]
  },
  {
   "cell_type": "code",
   "execution_count": null,
   "metadata": {},
   "outputs": [],
   "source": [
    "print(len(training_data))"
   ]
  },
  {
   "cell_type": "code",
   "execution_count": null,
   "metadata": {},
   "outputs": [],
   "source": [
    "# shuffle dataset so the algorithm doesn't learn the Pokemon type based on order of appearance\n",
    "random.shuffle(training_data)"
   ]
  },
  {
   "cell_type": "code",
   "execution_count": null,
   "metadata": {},
   "outputs": [],
   "source": [
    "# training data\n",
    "X_train = []\n",
    "y_train = []\n",
    "\n",
    "# validation data\n",
    "X_validation = []\n",
    "y_validation = []\n",
    "\n",
    "# validation split (proportion of )\n",
    "train_val_split = 0.9\n",
    "# index to split the training/validation data \n",
    "split_index = int(len(training_data) * train_val_split)"
   ]
  },
  {
   "cell_type": "code",
   "execution_count": null,
   "metadata": {},
   "outputs": [],
   "source": [
    "# add training examples to array\n",
    "for features, label in training_data[:split_index]:\n",
    "    X_train.append(features)\n",
    "    y_train.append(label)\n",
    "    \n",
    "# add validation examples to array\n",
    "for features, label in training_data[split_index:]:\n",
    "    X_validation.append(features)\n",
    "    y_validation.append(label)\n",
    "\n",
    "\n",
    "# Reshape training data\n",
    "X_train = np.array(X_train).reshape(-1, IMG_SIZE, IMG_SIZE, 1)\n",
    "y_train = np.array(y_train)\n",
    "X_validation = np.array(X_validation).reshape(-1, IMG_SIZE, IMG_SIZE, 1)\n",
    "y_validation = np.array(y_validation)"
   ]
  },
  {
   "cell_type": "code",
   "execution_count": null,
   "metadata": {},
   "outputs": [],
   "source": [
    "import pickle\n",
    "\n",
    "# Save training feature data\n",
    "pickle_out = open('pickle_data/X_train.pickle', 'wb')\n",
    "pickle.dump(X_train, pickle_out)\n",
    "pickle_out.close()\n",
    "\n",
    "# Save training label data\n",
    "pickle_out = open('pickle_data/y_train.pickle', 'wb')\n",
    "pickle.dump(y_train, pickle_out)\n",
    "pickle_out.close()\n",
    "\n",
    "# Save validation feature data\n",
    "pickle_out = open('pickle_data/X_validation.pickle', 'wb')\n",
    "pickle.dump(X_validation, pickle_out)\n",
    "pickle_out.close()\n",
    "\n",
    "# Save validation label data\n",
    "pickle_out = open('pickle_data/y_validation.pickle', 'wb')\n",
    "pickle.dump(y_validation, pickle_out)\n",
    "pickle_out.close()"
   ]
  },
  {
   "cell_type": "code",
   "execution_count": null,
   "metadata": {},
   "outputs": [],
   "source": [
    "# Verify that data was saved correctly (optional)\n",
    "pickle_in = open('X_train.pickle', 'rb')\n",
    "X = pickle.load(pickle_in)\n",
    "pickle_in.close()"
   ]
  },
  {
   "cell_type": "code",
   "execution_count": null,
   "metadata": {},
   "outputs": [],
   "source": []
  },
  {
   "cell_type": "code",
   "execution_count": null,
   "metadata": {},
   "outputs": [],
   "source": []
  }
 ],
 "metadata": {
  "kernelspec": {
   "display_name": "Python 3",
   "language": "python",
   "name": "python3"
  },
  "language_info": {
   "codemirror_mode": {
    "name": "ipython",
    "version": 3
   },
   "file_extension": ".py",
   "mimetype": "text/x-python",
   "name": "python",
   "nbconvert_exporter": "python",
   "pygments_lexer": "ipython3",
   "version": "3.7.4"
  }
 },
 "nbformat": 4,
 "nbformat_minor": 2
}

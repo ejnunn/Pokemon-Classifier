{
 "cells": [
  {
   "cell_type": "code",
   "execution_count": 1,
   "metadata": {},
   "outputs": [],
   "source": [
    "import pandas as pd"
   ]
  },
  {
   "cell_type": "code",
   "execution_count": 2,
   "metadata": {},
   "outputs": [
    {
     "data": {
      "text/html": [
       "<div>\n",
       "<style scoped>\n",
       "    .dataframe tbody tr th:only-of-type {\n",
       "        vertical-align: middle;\n",
       "    }\n",
       "\n",
       "    .dataframe tbody tr th {\n",
       "        vertical-align: top;\n",
       "    }\n",
       "\n",
       "    .dataframe thead th {\n",
       "        text-align: right;\n",
       "    }\n",
       "</style>\n",
       "<table border=\"1\" class=\"dataframe\">\n",
       "  <thead>\n",
       "    <tr style=\"text-align: right;\">\n",
       "      <th></th>\n",
       "      <th>Model</th>\n",
       "      <th>Convolution Layers</th>\n",
       "      <th>Layer Size</th>\n",
       "      <th>Dense Layers</th>\n",
       "      <th>Training Loss</th>\n",
       "      <th>Training Accuracy</th>\n",
       "      <th>Validation Loss</th>\n",
       "      <th>Validation Accuracy</th>\n",
       "      <th>Testing Accuracy</th>\n",
       "    </tr>\n",
       "  </thead>\n",
       "  <tbody>\n",
       "    <tr>\n",
       "      <th>0</th>\n",
       "      <td>2-conv-128-nodes-1-dense</td>\n",
       "      <td>2</td>\n",
       "      <td>128</td>\n",
       "      <td>1</td>\n",
       "      <td>0.0220</td>\n",
       "      <td>0.9921</td>\n",
       "      <td>1.7179</td>\n",
       "      <td>0.6588</td>\n",
       "      <td>71.23</td>\n",
       "    </tr>\n",
       "    <tr>\n",
       "      <th>1</th>\n",
       "      <td>2-conv-128-nodes-2-dense</td>\n",
       "      <td>2</td>\n",
       "      <td>128</td>\n",
       "      <td>2</td>\n",
       "      <td>0.0172</td>\n",
       "      <td>0.9921</td>\n",
       "      <td>2.2160</td>\n",
       "      <td>0.6404</td>\n",
       "      <td>70.75</td>\n",
       "    </tr>\n",
       "    <tr>\n",
       "      <th>2</th>\n",
       "      <td>2-conv-64-nodes-0-dense</td>\n",
       "      <td>2</td>\n",
       "      <td>64</td>\n",
       "      <td>0</td>\n",
       "      <td>0.0550</td>\n",
       "      <td>0.9915</td>\n",
       "      <td>2.1513</td>\n",
       "      <td>0.6483</td>\n",
       "      <td>69.34</td>\n",
       "    </tr>\n",
       "    <tr>\n",
       "      <th>3</th>\n",
       "      <td>2-conv-64-nodes-1-dense</td>\n",
       "      <td>2</td>\n",
       "      <td>64</td>\n",
       "      <td>1</td>\n",
       "      <td>0.0273</td>\n",
       "      <td>0.9921</td>\n",
       "      <td>1.7455</td>\n",
       "      <td>0.6325</td>\n",
       "      <td>68.87</td>\n",
       "    </tr>\n",
       "    <tr>\n",
       "      <th>4</th>\n",
       "      <td>2-conv-64-nodes-2-dense</td>\n",
       "      <td>2</td>\n",
       "      <td>64</td>\n",
       "      <td>2</td>\n",
       "      <td>0.2070</td>\n",
       "      <td>0.9921</td>\n",
       "      <td>1.5838</td>\n",
       "      <td>0.6378</td>\n",
       "      <td>67.92</td>\n",
       "    </tr>\n",
       "  </tbody>\n",
       "</table>\n",
       "</div>"
      ],
      "text/plain": [
       "                      Model  Convolution Layers  Layer Size  Dense Layers  \\\n",
       "0  2-conv-128-nodes-1-dense                   2         128             1   \n",
       "1  2-conv-128-nodes-2-dense                   2         128             2   \n",
       "2   2-conv-64-nodes-0-dense                   2          64             0   \n",
       "3   2-conv-64-nodes-1-dense                   2          64             1   \n",
       "4   2-conv-64-nodes-2-dense                   2          64             2   \n",
       "\n",
       "   Training Loss  Training Accuracy  Validation Loss  Validation Accuracy  \\\n",
       "0         0.0220             0.9921           1.7179               0.6588   \n",
       "1         0.0172             0.9921           2.2160               0.6404   \n",
       "2         0.0550             0.9915           2.1513               0.6483   \n",
       "3         0.0273             0.9921           1.7455               0.6325   \n",
       "4         0.2070             0.9921           1.5838               0.6378   \n",
       "\n",
       "   Testing Accuracy  \n",
       "0             71.23  \n",
       "1             70.75  \n",
       "2             69.34  \n",
       "3             68.87  \n",
       "4             67.92  "
      ]
     },
     "execution_count": 2,
     "metadata": {},
     "output_type": "execute_result"
    }
   ],
   "source": [
    "df = pd.read_csv('results/Pokemon Classifier Color Accuracy Results.csv')\n",
    "df.head()"
   ]
  },
  {
   "cell_type": "code",
   "execution_count": 4,
   "metadata": {},
   "outputs": [
    {
     "data": {
      "text/plain": [
       "<matplotlib.axes._subplots.AxesSubplot at 0x11b585610>"
      ]
     },
     "execution_count": 4,
     "metadata": {},
     "output_type": "execute_result"
    },
    {
     "data": {
      "image/png": "[encoded data removed]",
      "text/plain": [
       "<Figure size 432x288 with 1 Axes>"
      ]
     },
     "metadata": {
      "needs_background": "light"
     },
     "output_type": "display_data"
    }
   ],
   "source": [
    "2_convs = "
   ]
  },
  {
   "cell_type": "code",
   "execution_count": null,
   "metadata": {},
   "outputs": [],
   "source": []
  }
 ],
 "metadata": {
  "kernelspec": {
   "display_name": "Python 3",
   "language": "python",
   "name": "python3"
  },
  "language_info": {
   "codemirror_mode": {
    "name": "ipython",
    "version": 3
   },
   "file_extension": ".py",
   "mimetype": "text/x-python",
   "name": "python",
   "nbconvert_exporter": "python",
   "pygments_lexer": "ipython3",
   "version": "3.7.4"
  }
 },
 "nbformat": 4,
 "nbformat_minor": 2
}

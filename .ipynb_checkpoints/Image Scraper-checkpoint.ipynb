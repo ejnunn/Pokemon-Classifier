{
 "cells": [
  {
   "cell_type": "code",
   "execution_count": 1,
   "metadata": {},
   "outputs": [],
   "source": [
    "import requests\n",
    "from bs4 import BeautifulSoup\n",
    "import urllib.request\n",
    "import cv2\n",
    "import numpy as np\n",
    "\n",
    "# name of the pokemon we are getting images for\n",
    "POKEMON_NAME = 'Squirtle'\n",
    "MAX_IMAGES = 5\n",
    "\n",
    "# Pikachu Google Image Search\n",
    "URL = 'https://www.google.com/search?q=squirtle&rlz=1C5CHFA_enUS814US814&sxsrf=ACYBGNSpBufdU77j-MUSKmN8cS_plt6I6Q:1573446076162&source=lnms&tbm=isch&sa=X&ved=0ahUKEwijj8Wzp-HlAhXfIjQIHZm1D-YQ_AUIEigB&biw=651&bih=648'\n",
    "r = requests.get(URL)\n",
    "\n",
    "soup = BeautifulSoup(r.content,'html5lib')\n",
    "\n",
    "# Gets the HTML code within the image results container\n",
    "search_results = soup.find('div', {'id':'search'})"
   ]
  },
  {
   "cell_type": "code",
   "execution_count": 2,
   "metadata": {},
   "outputs": [],
   "source": [
    "#print(search_results.prettify())"
   ]
  },
  {
   "cell_type": "code",
   "execution_count": 11,
   "metadata": {},
   "outputs": [
    {
     "name": "stdout",
     "output_type": "stream",
     "text": [
      "https://encrypted-tbn0.gstatic.com/images?q=tbn:ANd9GcT-FAOc_DJaFQnBYFOVe8GrCunUSTSXvY6UQWzgA6HA5GFKgAMLo0UFGg6v&s\n",
      "Saved image 0\n",
      "https://encrypted-tbn0.gstatic.com/images?q=tbn:ANd9GcRLIL6ZOEOCLqhHHeKjm9uX98WGy2TSLRE19-OHnYBJ5taqCzP1lH_4y5fWgw&s\n",
      "Saved image 1\n",
      "https://encrypted-tbn0.gstatic.com/images?q=tbn:ANd9GcS5pV97fESSMW3OB3jlQ_HsNp-PHQi0gPMoSS2Xd6hIKNwpwNkQlAA9g2Bj&s\n",
      "Saved image 2\n",
      "https://encrypted-tbn0.gstatic.com/images?q=tbn:ANd9GcQhKSEdqSbpfPFwVChXLdeustQ09AHD6TJ7MydBs5q-S-Zea-K7Q5OB-w&s\n",
      "Saved image 3\n",
      "https://encrypted-tbn0.gstatic.com/images?q=tbn:ANd9GcQyXZ2BTYpdTazhnfzcrroKJ_zyi4p3dR2CRIrSad_EM5dtH-syqifFfw&s\n",
      "Saved image 4\n",
      "DONE\n",
      "Downloaded 5 images.\n"
     ]
    }
   ],
   "source": [
    "# loop through all images in results\n",
    "count = 0\n",
    "for result in search_results.find_all('img')[:MAX_IMAGES]:\n",
    "    try:\n",
    "        # get image url link\n",
    "        img_url = result.get('src')\n",
    "        print(img_url)\n",
    "        request = urllib.request.Request(img_url)\n",
    "        response = urllib.request.urlopen(request)\n",
    "        binary_str = response.read()\n",
    "        byte_array = bytearray(binary_str)\n",
    "        numpy_array = np.asarray(byte_array, dtype=\"uint8\")\n",
    "        image = cv2.imdecode(numpy_array, cv2.IMREAD_UNCHANGED)\n",
    "        filename = '/dataset/%s/scrapped_%d.jpg' % (POKEMON_NAME, count)\n",
    "        cv2.imwrite(filename, image)\n",
    "        print('Saved image %d' % count)\n",
    "        count += 1\n",
    "    except Exception as e:\n",
    "        print(str(e))\n",
    "\n",
    "print(\"DONE\")\n",
    "print('Downloaded {} images.'.format(count))"
   ]
  },
  {
   "cell_type": "code",
   "execution_count": 12,
   "metadata": {},
   "outputs": [
    {
     "ename": "error",
     "evalue": "OpenCV(4.1.1) /Users/travis/build/skvark/opencv-python/opencv/modules/highgui/src/window.cpp:352: error: (-215:Assertion failed) size.width>0 && size.height>0 in function 'imshow'\n",
     "output_type": "error",
     "traceback": [
      "\u001b[0;31m---------------------------------------------------------------------------\u001b[0m",
      "\u001b[0;31merror\u001b[0m                                     Traceback (most recent call last)",
      "\u001b[0;32m<ipython-input-12-2413611069ce>\u001b[0m in \u001b[0;36m<module>\u001b[0;34m\u001b[0m\n\u001b[1;32m      1\u001b[0m \u001b[0mverify_image\u001b[0m \u001b[0;34m=\u001b[0m \u001b[0mcv2\u001b[0m\u001b[0;34m.\u001b[0m\u001b[0mimread\u001b[0m\u001b[0;34m(\u001b[0m\u001b[0;34m'dataset/Squirtle/scrapped_0.jpg'\u001b[0m\u001b[0;34m,\u001b[0m \u001b[0;36m0\u001b[0m\u001b[0;34m)\u001b[0m\u001b[0;34m\u001b[0m\u001b[0;34m\u001b[0m\u001b[0m\n\u001b[0;32m----> 2\u001b[0;31m \u001b[0mcv2\u001b[0m\u001b[0;34m.\u001b[0m\u001b[0mimshow\u001b[0m\u001b[0;34m(\u001b[0m\u001b[0;34m'Image'\u001b[0m\u001b[0;34m,\u001b[0m \u001b[0mverify_image\u001b[0m\u001b[0;34m)\u001b[0m\u001b[0;34m\u001b[0m\u001b[0;34m\u001b[0m\u001b[0m\n\u001b[0m",
      "\u001b[0;31merror\u001b[0m: OpenCV(4.1.1) /Users/travis/build/skvark/opencv-python/opencv/modules/highgui/src/window.cpp:352: error: (-215:Assertion failed) size.width>0 && size.height>0 in function 'imshow'\n"
     ]
    }
   ],
   "source": [
    "verify_image = cv2.imread('dataset/Squirtle/scrapped_0.jpg', 0)\n",
    "cv2.imshow('Image', verify_image)"
   ]
  },
  {
   "cell_type": "code",
   "execution_count": null,
   "metadata": {},
   "outputs": [],
   "source": []
  },
  {
   "cell_type": "code",
   "execution_count": null,
   "metadata": {},
   "outputs": [],
   "source": []
  }
 ],
 "metadata": {
  "kernelspec": {
   "display_name": "Python 3",
   "language": "python",
   "name": "python3"
  },
  "language_info": {
   "codemirror_mode": {
    "name": "ipython",
    "version": 3
   },
   "file_extension": ".py",
   "mimetype": "text/x-python",
   "name": "python",
   "nbconvert_exporter": "python",
   "pygments_lexer": "ipython3",
   "version": "3.7.2"
  }
 },
 "nbformat": 4,
 "nbformat_minor": 2
}

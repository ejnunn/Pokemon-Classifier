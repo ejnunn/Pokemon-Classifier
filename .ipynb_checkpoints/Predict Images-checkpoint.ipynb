{
 "cells": [
  {
   "cell_type": "code",
   "execution_count": 1,
   "metadata": {},
   "outputs": [],
   "source": [
    "import cv2\n",
    "import tensorflow as tf\n",
    "import glob\n",
    "import os"
   ]
  },
  {
   "cell_type": "code",
   "execution_count": 2,
   "metadata": {},
   "outputs": [],
   "source": [
    "CATEGORIES = ['Bulbasaur', 'Charmander', 'Mewtwo', 'Pikachu', 'Squirtle']\n",
    "\n",
    "def prepare(filepath):\n",
    "    IMG_SIZE = 50\n",
    "    img_array = cv2.imread(filepath, cv2.IMREAD_GRAYSCALE)\n",
    "    img_array = img_array/255.0\n",
    "    new_array = cv2.resize(img_array, (IMG_SIZE, IMG_SIZE))\n",
    "    return new_array.reshape(-1, IMG_SIZE, IMG_SIZE, 1)"
   ]
  },
  {
   "cell_type": "code",
   "execution_count": 3,
   "metadata": {},
   "outputs": [],
   "source": [
    "# Load pre-trained model\n",
    "model_name = 'models/2-conv-64-nodes-0-dense-1573172865'\n",
    "model = tf.keras.models.load_model(model_name)"
   ]
  },
  {
   "cell_type": "code",
   "execution_count": 5,
   "metadata": {},
   "outputs": [
    {
     "name": "stdout",
     "output_type": "stream",
     "text": [
      "Bulbasaur\n",
      "Bulbasaur\n",
      "Bulbasaur\n",
      "Bulbasaur\n"
     ]
    }
   ],
   "source": [
    "prediction = model.predict([prepare('predict/Bulbasaur.png')])\n",
    "print(CATEGORIES[int(prediction[0][0])])\n",
    "prediction = model.predict([prepare('predict/Pikachu.png')])\n",
    "print(CATEGORIES[int(prediction[0][0])])\n",
    "prediction = model.predict([prepare('predict/Pikachu2.png')])\n",
    "print(CATEGORIES[int(prediction[0][0])])\n",
    "prediction = model.predict([prepare('predict/Mewtwo.png')])\n",
    "print(CATEGORIES[int(prediction[0][0])])"
   ]
  },
  {
   "cell_type": "code",
   "execution_count": null,
   "metadata": {},
   "outputs": [],
   "source": []
  }
 ],
 "metadata": {
  "kernelspec": {
   "display_name": "Python 3",
   "language": "python",
   "name": "python3"
  },
  "language_info": {
   "codemirror_mode": {
    "name": "ipython",
    "version": 3
   },
   "file_extension": ".py",
   "mimetype": "text/x-python",
   "name": "python",
   "nbconvert_exporter": "python",
   "pygments_lexer": "ipython3",
   "version": "3.7.2"
  }
 },
 "nbformat": 4,
 "nbformat_minor": 2
}

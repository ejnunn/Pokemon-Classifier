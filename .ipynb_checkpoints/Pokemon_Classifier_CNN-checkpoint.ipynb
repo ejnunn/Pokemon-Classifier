{
 "cells": [
  {
   "cell_type": "code",
   "execution_count": 1,
   "metadata": {},
   "outputs": [],
   "source": [
    "import tensorflow as tf\n",
    "from tensorflow.keras.models import Sequential\n",
    "from tensorflow.keras.layers import Dense, Dropout, Activation, Flatten, Conv2D, MaxPooling2D, BatchNormalization\n",
    "from tensorflow.keras.callbacks import TensorBoard\n",
    "import pickle\n",
    "import numpy as np\n",
    "import time"
   ]
  },
  {
   "cell_type": "code",
   "execution_count": 2,
   "metadata": {},
   "outputs": [
    {
     "name": "stdout",
     "output_type": "stream",
     "text": [
      "X_train.shape = (2320, 50, 50, 3)\n",
      "y_train.shape = (2320,)\n",
      "X_validation.shape = (258, 50, 50, 3)\n",
      "y_validation.shape = (258,)\n"
     ]
    }
   ],
   "source": [
    "# load dataset and labels\n",
    "X_train = pickle.load(open('pickle_data/X_train.pickle','rb'))\n",
    "y_train = pickle.load(open('pickle_data/y_train.pickle','rb'))\n",
    "\n",
    "# load validation dataset and labels\n",
    "X_validation = pickle.load(open('pickle_data/X_validation.pickle', 'rb'))\n",
    "y_validation = pickle.load(open('pickle_data/y_validation.pickle', 'rb'))\n",
    "\n",
    "print('X_train.shape =', X_train.shape)\n",
    "print('y_train.shape =', y_train.shape)\n",
    "print('X_validation.shape =', X_validation.shape)\n",
    "print('y_validation.shape =', y_validation.shape)"
   ]
  },
  {
   "cell_type": "code",
   "execution_count": 3,
   "metadata": {},
   "outputs": [],
   "source": [
    "# normalize pixel data\n",
    "X_train = X_train/255.0\n",
    "X_validation = X_validation/255.0"
   ]
  },
  {
   "cell_type": "code",
   "execution_count": 4,
   "metadata": {},
   "outputs": [],
   "source": [
    "# define hyperparameters\n",
    "conv_layer = 4\n",
    "layer_size = 64\n",
    "dense_layer = 0"
   ]
  },
  {
   "cell_type": "code",
   "execution_count": 5,
   "metadata": {
    "scrolled": true
   },
   "outputs": [
    {
     "name": "stdout",
     "output_type": "stream",
     "text": [
      "Train on 1856 samples, validate on 464 samples\n",
      "Epoch 1/20\n",
      "1856/1856 [==============================] - 11s 6ms/sample - loss: 0.7965 - accuracy: 0.7258 - val_loss: 0.9768 - val_accuracy: 0.6810\n",
      "Epoch 2/20\n",
      "1856/1856 [==============================] - 10s 5ms/sample - loss: 0.4968 - accuracy: 0.8227 - val_loss: 0.8438 - val_accuracy: 0.7069\n",
      "Epoch 3/20\n",
      "1856/1856 [==============================] - 10s 5ms/sample - loss: 0.3953 - accuracy: 0.8680 - val_loss: 0.5271 - val_accuracy: 0.8276\n",
      "Epoch 4/20\n",
      "1856/1856 [==============================] - 10s 5ms/sample - loss: 0.3417 - accuracy: 0.8852 - val_loss: 0.9165 - val_accuracy: 0.6724\n",
      "Epoch 5/20\n",
      "1856/1856 [==============================] - 10s 6ms/sample - loss: 0.3057 - accuracy: 0.8933 - val_loss: 0.6184 - val_accuracy: 0.7888\n",
      "Epoch 6/20\n",
      "1856/1856 [==============================] - 10s 6ms/sample - loss: 0.2712 - accuracy: 0.8960 - val_loss: 1.6972 - val_accuracy: 0.5560\n",
      "Epoch 7/20\n",
      "1856/1856 [==============================] - 10s 6ms/sample - loss: 0.2212 - accuracy: 0.9273 - val_loss: 0.4237 - val_accuracy: 0.8578\n",
      "Epoch 8/20\n",
      "1856/1856 [==============================] - 11s 6ms/sample - loss: 0.1972 - accuracy: 0.9305 - val_loss: 0.4351 - val_accuracy: 0.8319\n",
      "Epoch 9/20\n",
      "1856/1856 [==============================] - 10s 6ms/sample - loss: 0.1665 - accuracy: 0.9461 - val_loss: 0.7764 - val_accuracy: 0.7522\n",
      "Epoch 10/20\n",
      "1856/1856 [==============================] - 11s 6ms/sample - loss: 0.1363 - accuracy: 0.9580 - val_loss: 0.7824 - val_accuracy: 0.7500\n",
      "Epoch 11/20\n",
      "1856/1856 [==============================] - 11s 6ms/sample - loss: 0.1587 - accuracy: 0.9483 - val_loss: 0.7153 - val_accuracy: 0.7608\n",
      "Epoch 12/20\n",
      "1856/1856 [==============================] - 10s 6ms/sample - loss: 0.1212 - accuracy: 0.9623 - val_loss: 0.6416 - val_accuracy: 0.8341\n",
      "Epoch 13/20\n",
      "1856/1856 [==============================] - 10s 6ms/sample - loss: 0.1152 - accuracy: 0.9634 - val_loss: 0.3484 - val_accuracy: 0.9181\n",
      "Epoch 14/20\n",
      "1856/1856 [==============================] - 11s 6ms/sample - loss: 0.1165 - accuracy: 0.9617 - val_loss: 0.5725 - val_accuracy: 0.8513\n",
      "Epoch 15/20\n",
      "1856/1856 [==============================] - 11s 6ms/sample - loss: 0.0959 - accuracy: 0.9720 - val_loss: 0.3608 - val_accuracy: 0.9159\n",
      "Epoch 16/20\n",
      "1856/1856 [==============================] - 10s 6ms/sample - loss: 0.0690 - accuracy: 0.9801 - val_loss: 0.4775 - val_accuracy: 0.8858\n",
      "Epoch 17/20\n",
      "1856/1856 [==============================] - 11s 6ms/sample - loss: 0.0714 - accuracy: 0.9817 - val_loss: 0.3641 - val_accuracy: 0.8922\n",
      "Epoch 18/20\n",
      "1856/1856 [==============================] - 10s 6ms/sample - loss: 0.0778 - accuracy: 0.9795 - val_loss: 0.2964 - val_accuracy: 0.9181\n",
      "Epoch 19/20\n",
      "1856/1856 [==============================] - 11s 6ms/sample - loss: 0.0748 - accuracy: 0.9768 - val_loss: 0.4549 - val_accuracy: 0.8556\n",
      "Epoch 20/20\n",
      "1856/1856 [==============================] - 11s 6ms/sample - loss: 0.0699 - accuracy: 0.9811 - val_loss: 1.0222 - val_accuracy: 0.7134\n"
     ]
    },
    {
     "data": {
      "text/plain": [
       "<tensorflow.python.keras.callbacks.History at 0x64380f3d0>"
      ]
     },
     "execution_count": 5,
     "metadata": {},
     "output_type": "execute_result"
    }
   ],
   "source": [
    "# name of model to keep track of changing model architectures\n",
    "NAME = '{}-conv-{}-nodes-{}-dense-{}'.format(conv_layer, layer_size, dense_layer, int(time.time()))\n",
    "# create a new log of the model to analyze results\n",
    "tensorboard = TensorBoard(log_dir='logs/{}'.format(NAME))\n",
    "\n",
    "# define model\n",
    "model = Sequential()\n",
    "\n",
    "# 1st convolution\n",
    "model.add(Conv2D(layer_size, (3,3), input_shape=X_train.shape[1:]))\n",
    "model.add(Activation('relu'))\n",
    "model.add(MaxPooling2D(pool_size=(2,2)))\n",
    "\n",
    "# add additional conv layers\n",
    "for _ in range(conv_layer-1):\n",
    "    # convolution\n",
    "    model.add(Conv2D(layer_size, (3,3)))\n",
    "    model.add(Activation('relu'))\n",
    "    model.add(BatchNormalization())\n",
    "    # Max-Pool to reduce tensor size while retaining distict features\n",
    "    model.add(MaxPooling2D(pool_size=(2,2)))\n",
    "\n",
    "# flatten model for fully connected layers\n",
    "model.add(Flatten())\n",
    "\n",
    "# add dense layers\n",
    "for _ in range(dense_layer):\n",
    "    # fully-connected\n",
    "    model.add(Dense(layer_size))\n",
    "    model.add(Activation('relu'))\n",
    "\n",
    "# final fully-connected layer (5 matches number of Pokemon categories)\n",
    "model.add(Dense(5))\n",
    "model.add(Activation('softmax'))\n",
    "\n",
    "model.compile(loss='sparse_categorical_crossentropy',\n",
    "              optimizer='adam',\n",
    "              metrics=['accuracy'])\n",
    "\n",
    "model.fit(X_train, y_train, batch_size=16, epochs=20, validation_split=0.2, callbacks=[tensorboard])\n"
   ]
  },
  {
   "cell_type": "code",
   "execution_count": 6,
   "metadata": {},
   "outputs": [
    {
     "name": "stdout",
     "output_type": "stream",
     "text": [
      "accuracy: 67.83%\n"
     ]
    }
   ],
   "source": [
    "# evaluate the model\n",
    "scores = model.evaluate(X_validation, y_validation, verbose=0)\n",
    "print(\"%s: %.2f%%\" % (model.metrics_names[1], scores[1]*100))"
   ]
  },
  {
   "cell_type": "code",
   "execution_count": 7,
   "metadata": {},
   "outputs": [
    {
     "name": "stdout",
     "output_type": "stream",
     "text": [
      "WARNING:tensorflow:From /Users/ericnunn/opt/anaconda3/lib/python3.7/site-packages/tensorflow_core/python/ops/resource_variable_ops.py:1781: calling BaseResourceVariable.__init__ (from tensorflow.python.ops.resource_variable_ops) with constraint is deprecated and will be removed in a future version.\n",
      "Instructions for updating:\n",
      "If using Keras pass *_constraint arguments to layers.\n",
      "INFO:tensorflow:Assets written to: models/4-conv-128-nodes-0-dense-1574901483/assets\n"
     ]
    }
   ],
   "source": [
    "# save the model\n",
    "model.save('models/' + NAME)"
   ]
  },
  {
   "cell_type": "code",
   "execution_count": null,
   "metadata": {},
   "outputs": [],
   "source": []
  }
 ],
 "metadata": {
  "kernelspec": {
   "display_name": "Python 3",
   "language": "python",
   "name": "python3"
  },
  "language_info": {
   "codemirror_mode": {
    "name": "ipython",
    "version": 3
   },
   "file_extension": ".py",
   "mimetype": "text/x-python",
   "name": "python",
   "nbconvert_exporter": "python",
   "pygments_lexer": "ipython3",
   "version": "3.7.4"
  }
 },
 "nbformat": 4,
 "nbformat_minor": 2
}

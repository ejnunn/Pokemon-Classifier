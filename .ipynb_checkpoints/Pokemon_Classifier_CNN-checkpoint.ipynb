{
 "cells": [
  {
   "cell_type": "code",
   "execution_count": 6,
   "metadata": {},
   "outputs": [],
   "source": [
    "import tensorflow as tf\n",
    "from tensorflow.keras.models import Sequential\n",
    "from tensorflow.keras.layers import Dense, Dropout, Activation, Flatten, Conv2D, MaxPooling2D, BatchNormalization\n",
    "from tensorflow.keras.callbacks import TensorBoard\n",
    "import pickle\n",
    "import numpy as np\n",
    "import time"
   ]
  },
  {
   "cell_type": "code",
   "execution_count": 7,
   "metadata": {},
   "outputs": [
    {
     "name": "stdout",
     "output_type": "stream",
     "text": [
      "X_train.shape = (2320, 50, 50, 3)\n",
      "y_train.shape = (2320,)\n",
      "X_validation.shape = (258, 50, 50, 3)\n",
      "y_validation.shape = (258,)\n"
     ]
    }
   ],
   "source": [
    "# load dataset and labels\n",
    "X_train = pickle.load(open('pickle_data/X_train.pickle','rb'))\n",
    "y_train = pickle.load(open('pickle_data/y_train.pickle','rb'))\n",
    "\n",
    "# load validation dataset and labels\n",
    "X_validation = pickle.load(open('pickle_data/X_validation.pickle', 'rb'))\n",
    "y_validation = pickle.load(open('pickle_data/y_validation.pickle', 'rb'))\n",
    "\n",
    "print('X_train.shape =', X_train.shape)\n",
    "print('y_train.shape =', y_train.shape)\n",
    "print('X_validation.shape =', X_validation.shape)\n",
    "print('y_validation.shape =', y_validation.shape)"
   ]
  },
  {
   "cell_type": "code",
   "execution_count": 8,
   "metadata": {},
   "outputs": [],
   "source": [
    "# normalize pixel data\n",
    "X_train = X_train/255.0\n",
    "X_validation = X_validation/255.0"
   ]
  },
  {
   "cell_type": "code",
   "execution_count": 35,
   "metadata": {},
   "outputs": [],
   "source": [
    "# define hyperparameters\n",
    "conv_layer = 4\n",
    "layer_size = 128\n",
    "dense_layer = 0"
   ]
  },
  {
   "cell_type": "code",
   "execution_count": 36,
   "metadata": {
    "scrolled": true
   },
   "outputs": [
    {
     "name": "stdout",
     "output_type": "stream",
     "text": [
      "Train on 1856 samples, validate on 464 samples\n",
      "Epoch 1/20\n",
      "1856/1856 [==============================] - 11s 6ms/sample - loss: 1.1453 - accuracy: 0.7360 - val_loss: 2.2873 - val_accuracy: 0.3707\n",
      "Epoch 2/20\n",
      "1856/1856 [==============================] - 11s 6ms/sample - loss: 0.5612 - accuracy: 0.8303 - val_loss: 0.8519 - val_accuracy: 0.7694\n",
      "Epoch 3/20\n",
      "1856/1856 [==============================] - 12s 6ms/sample - loss: 0.4074 - accuracy: 0.8696 - val_loss: 0.6300 - val_accuracy: 0.7694\n",
      "Epoch 4/20\n",
      "1856/1856 [==============================] - 11s 6ms/sample - loss: 0.3461 - accuracy: 0.8879 - val_loss: 0.4977 - val_accuracy: 0.8664\n",
      "Epoch 5/20\n",
      "1856/1856 [==============================] - 11s 6ms/sample - loss: 0.3022 - accuracy: 0.8976 - val_loss: 0.6408 - val_accuracy: 0.7802\n",
      "Epoch 6/20\n",
      "1856/1856 [==============================] - 11s 6ms/sample - loss: 0.2653 - accuracy: 0.9122 - val_loss: 0.4588 - val_accuracy: 0.8685\n",
      "Epoch 7/20\n",
      "1856/1856 [==============================] - 11s 6ms/sample - loss: 0.2101 - accuracy: 0.9273 - val_loss: 0.4515 - val_accuracy: 0.8815\n",
      "Epoch 8/20\n",
      "1856/1856 [==============================] - 11s 6ms/sample - loss: 0.1514 - accuracy: 0.9483 - val_loss: 0.6103 - val_accuracy: 0.7845\n",
      "Epoch 9/20\n",
      "1856/1856 [==============================] - 11s 6ms/sample - loss: 0.1595 - accuracy: 0.9418 - val_loss: 0.9133 - val_accuracy: 0.7629\n",
      "Epoch 10/20\n",
      "1856/1856 [==============================] - 11s 6ms/sample - loss: 0.1538 - accuracy: 0.9558 - val_loss: 0.6878 - val_accuracy: 0.8147\n",
      "Epoch 11/20\n",
      "1856/1856 [==============================] - 11s 6ms/sample - loss: 0.1364 - accuracy: 0.9531 - val_loss: 0.4345 - val_accuracy: 0.8707\n",
      "Epoch 12/20\n",
      "1856/1856 [==============================] - 11s 6ms/sample - loss: 0.0913 - accuracy: 0.9682 - val_loss: 0.5004 - val_accuracy: 0.8750\n",
      "Epoch 13/20\n",
      "1856/1856 [==============================] - 11s 6ms/sample - loss: 0.0987 - accuracy: 0.9677 - val_loss: 0.8109 - val_accuracy: 0.7931\n",
      "Epoch 14/20\n",
      "1856/1856 [==============================] - 11s 6ms/sample - loss: 0.0774 - accuracy: 0.9774 - val_loss: 0.6121 - val_accuracy: 0.8427\n",
      "Epoch 15/20\n",
      "1856/1856 [==============================] - 11s 6ms/sample - loss: 0.0679 - accuracy: 0.9806 - val_loss: 0.2738 - val_accuracy: 0.9397\n",
      "Epoch 16/20\n",
      "1856/1856 [==============================] - 11s 6ms/sample - loss: 0.0724 - accuracy: 0.9774 - val_loss: 0.3242 - val_accuracy: 0.9030\n",
      "Epoch 17/20\n",
      "1856/1856 [==============================] - 11s 6ms/sample - loss: 0.0730 - accuracy: 0.9779 - val_loss: 0.4000 - val_accuracy: 0.8642\n",
      "Epoch 18/20\n",
      "1856/1856 [==============================] - 11s 6ms/sample - loss: 0.0682 - accuracy: 0.9763 - val_loss: 0.3010 - val_accuracy: 0.9203\n",
      "Epoch 19/20\n",
      "1856/1856 [==============================] - 11s 6ms/sample - loss: 0.0611 - accuracy: 0.9811 - val_loss: 0.3098 - val_accuracy: 0.9138\n",
      "Epoch 20/20\n",
      "1856/1856 [==============================] - 11s 6ms/sample - loss: 0.0567 - accuracy: 0.9860 - val_loss: 0.2635 - val_accuracy: 0.9397\n"
     ]
    },
    {
     "data": {
      "text/plain": [
       "<tensorflow.python.keras.callbacks.History at 0x63dad0a90>"
      ]
     },
     "execution_count": 36,
     "metadata": {},
     "output_type": "execute_result"
    }
   ],
   "source": [
    "# name of model to keep track of changing model architectures\n",
    "NAME = '{}-conv-{}-nodes-{}-dense-{}'.format(conv_layer, layer_size, dense_layer, int(time.time()))\n",
    "# create a new log of the model to analyze results\n",
    "tensorboard = TensorBoard(log_dir='logs/{}'.format(NAME))\n",
    "\n",
    "# define model\n",
    "model = Sequential()\n",
    "\n",
    "# 1st convolution\n",
    "model.add(Conv2D(layer_size, (3,3), input_shape=X_train.shape[1:]))\n",
    "model.add(Activation('relu'))\n",
    "model.add(MaxPooling2D(pool_size=(2,2)))\n",
    "\n",
    "# add additional conv layers\n",
    "for _ in range(conv_layer-1):\n",
    "    # convolution\n",
    "    model.add(Conv2D(layer_size, (3,3)))\n",
    "    model.add(Activation('relu'))\n",
    "    model.add(BatchNormalization())\n",
    "    # Max-Pool to reduce tensor size while retaining distict features\n",
    "    model.add(MaxPooling2D(pool_size=(2,2)))\n",
    "\n",
    "# flatten model for fully connected layers\n",
    "model.add(Flatten())\n",
    "\n",
    "# add dense layers\n",
    "for _ in range(dense_layer):\n",
    "    # fully-connected\n",
    "    model.add(Dense(layer_size))\n",
    "    model.add(Activation('relu'))\n",
    "\n",
    "# final fully-connected layer (151 matches number of Pokemon categories)\n",
    "model.add(Dense(151))\n",
    "model.add(Activation('softmax'))\n",
    "\n",
    "model.compile(loss='sparse_categorical_crossentropy',\n",
    "              optimizer='adam',\n",
    "              metrics=['accuracy'])\n",
    "\n",
    "model.fit(X_train, y_train, batch_size=16, epochs=20, validation_split=0.2, callbacks=[tensorboard])\n"
   ]
  },
  {
   "cell_type": "code",
   "execution_count": 37,
   "metadata": {},
   "outputs": [
    {
     "name": "stdout",
     "output_type": "stream",
     "text": [
      "accuracy: 91.86%\n"
     ]
    }
   ],
   "source": [
    "# evaluate the model\n",
    "scores = model.evaluate(X_validation, y_validation, verbose=0)\n",
    "print(\"%s: %.2f%%\" % (model.metrics_names[1], scores[1]*100))"
   ]
  },
  {
   "cell_type": "code",
   "execution_count": 13,
   "metadata": {},
   "outputs": [
    {
     "name": "stdout",
     "output_type": "stream",
     "text": [
      "WARNING:tensorflow:From /Users/ericnunn/opt/anaconda3/lib/python3.7/site-packages/tensorflow_core/python/ops/resource_variable_ops.py:1781: calling BaseResourceVariable.__init__ (from tensorflow.python.ops.resource_variable_ops) with constraint is deprecated and will be removed in a future version.\n",
      "Instructions for updating:\n",
      "If using Keras pass *_constraint arguments to layers.\n",
      "INFO:tensorflow:Assets written to: models/2-conv-128-nodes-1-dense-1574830346/assets\n"
     ]
    }
   ],
   "source": [
    "# save the model\n",
    "model.save('models/' + NAME)"
   ]
  },
  {
   "cell_type": "code",
   "execution_count": null,
   "metadata": {},
   "outputs": [],
   "source": []
  }
 ],
 "metadata": {
  "kernelspec": {
   "display_name": "Python 3",
   "language": "python",
   "name": "python3"
  },
  "language_info": {
   "codemirror_mode": {
    "name": "ipython",
    "version": 3
   },
   "file_extension": ".py",
   "mimetype": "text/x-python",
   "name": "python",
   "nbconvert_exporter": "python",
   "pygments_lexer": "ipython3",
   "version": "3.7.4"
  }
 },
 "nbformat": 4,
 "nbformat_minor": 2
}

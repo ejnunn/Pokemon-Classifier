{
 "cells": [
  {
   "cell_type": "code",
   "execution_count": 1,
   "metadata": {},
   "outputs": [],
   "source": [
    "import tensorflow as tf\n",
    "from tensorflow.keras.models import Sequential\n",
    "from tensorflow.keras.layers import Dense, Dropout, Activation, Flatten, Conv2D, MaxPooling2D, BatchNormalization\n",
    "from tensorflow.keras.callbacks import TensorBoard\n",
    "import pickle\n",
    "import numpy as np\n",
    "import time"
   ]
  },
  {
   "cell_type": "code",
   "execution_count": 2,
   "metadata": {
    "scrolled": true
   },
   "outputs": [
    {
     "name": "stdout",
     "output_type": "stream",
     "text": [
      "X_train.shape = (2320, 50, 50, 3)\n",
      "y_train.shape = (2320,)\n",
      "X_validation.shape = (258, 50, 50, 3)\n",
      "y_validation.shape = (258,)\n"
     ]
    }
   ],
   "source": [
    "# load dataset and labels\n",
    "X_train = pickle.load(open('pickle_data/X_train.pickle','rb'))\n",
    "y_train = pickle.load(open('pickle_data/y_train.pickle','rb'))\n",
    "\n",
    "# load validation dataset and labels\n",
    "X_validation = pickle.load(open('pickle_data/X_validation.pickle', 'rb'))\n",
    "y_validation = pickle.load(open('pickle_data/y_validation.pickle', 'rb'))\n",
    "\n",
    "print('X_train.shape =', X_train.shape)\n",
    "print('y_train.shape =', y_train.shape)\n",
    "print('X_validation.shape =', X_validation.shape)\n",
    "print('y_validation.shape =', y_validation.shape)"
   ]
  },
  {
   "cell_type": "code",
   "execution_count": 3,
   "metadata": {},
   "outputs": [],
   "source": [
    "# normalize pixel data\n",
    "X_train = X_train/255.0\n",
    "X_validation = X_validation/255.0"
   ]
  },
  {
   "cell_type": "code",
   "execution_count": 9,
   "metadata": {},
   "outputs": [],
   "source": [
    "def create_model(conv_layer, layer_size, dense_layer):\n",
    "    # create a new log of the model to analyze results\n",
    "    tensorboard = TensorBoard(log_dir='logs/{}'.format(NAME))\n",
    "\n",
    "    # define model\n",
    "    model = Sequential()\n",
    "\n",
    "    # 1st convolution\n",
    "    model.add(Conv2D(layer_size, (3,3), input_shape=X_train.shape[1:]))\n",
    "    model.add(Activation('relu'))\n",
    "    model.add(MaxPooling2D(pool_size=(2,2)))\n",
    "\n",
    "    # add additional conv layers\n",
    "    for _ in range(conv_layer-1):\n",
    "        # convolution\n",
    "        model.add(Conv2D(layer_size, (3,3)))\n",
    "        model.add(Activation('relu'))\n",
    "        model.add(BatchNormalization())\n",
    "        # Max-Pool to reduce tensor size while retaining distict features\n",
    "        model.add(MaxPooling2D(pool_size=(2,2)))\n",
    "\n",
    "    # flatten model for fully connected layers\n",
    "    model.add(Flatten())\n",
    "\n",
    "    # add dense layers\n",
    "    for _ in range(dense_layer):\n",
    "        # fully-connected\n",
    "        model.add(Dense(layer_size))\n",
    "        model.add(Activation('relu'))\n",
    "\n",
    "    # final fully-connected layer (5 matches number of Pokemon categories)\n",
    "    model.add(Dense(5))\n",
    "    model.add(Activation('softmax'))\n",
    "\n",
    "    model.compile(loss='sparse_categorical_crossentropy',\n",
    "                  optimizer='adam',\n",
    "                  metrics=['accuracy'])\n",
    "\n",
    "    # fit the model to the training data\n",
    "    model.fit(X_train, y_train, batch_size=16, epochs=20, validation_split=0.2, callbacks=[tensorboard])\n",
    "    \n",
    "    return model"
   ]
  },
  {
   "cell_type": "code",
   "execution_count": 10,
   "metadata": {
    "scrolled": true
   },
   "outputs": [
    {
     "name": "stdout",
     "output_type": "stream",
     "text": [
      "Train on 1856 samples, validate on 464 samples\n",
      "Epoch 1/20\n",
      "1856/1856 [==============================] - 11s 6ms/sample - loss: 0.7125 - accuracy: 0.7468 - val_loss: 1.4009 - val_accuracy: 0.3599\n",
      "Epoch 2/20\n",
      "1856/1856 [==============================] - 12s 6ms/sample - loss: 0.4975 - accuracy: 0.8260 - val_loss: 1.0016 - val_accuracy: 0.5927\n",
      "Epoch 3/20\n",
      "1856/1856 [==============================] - 12s 6ms/sample - loss: 0.4286 - accuracy: 0.8540 - val_loss: 1.2622 - val_accuracy: 0.5302\n",
      "Epoch 4/20\n",
      "1856/1856 [==============================] - 12s 6ms/sample - loss: 0.3805 - accuracy: 0.8691 - val_loss: 1.4192 - val_accuracy: 0.5560\n",
      "Epoch 5/20\n",
      "1856/1856 [==============================] - 12s 6ms/sample - loss: 0.3597 - accuracy: 0.8696 - val_loss: 1.0097 - val_accuracy: 0.6595\n",
      "Epoch 6/20\n",
      "1856/1856 [==============================] - 12s 6ms/sample - loss: 0.2755 - accuracy: 0.9084 - val_loss: 0.8572 - val_accuracy: 0.7543\n",
      "Epoch 7/20\n",
      "1856/1856 [==============================] - 12s 6ms/sample - loss: 0.2052 - accuracy: 0.9278 - val_loss: 0.3825 - val_accuracy: 0.8858\n",
      "Epoch 8/20\n",
      "1856/1856 [==============================] - 12s 7ms/sample - loss: 0.2032 - accuracy: 0.9283 - val_loss: 0.8728 - val_accuracy: 0.7478\n",
      "Epoch 9/20\n",
      "1856/1856 [==============================] - 12s 7ms/sample - loss: 0.1435 - accuracy: 0.9526 - val_loss: 0.4730 - val_accuracy: 0.8578\n",
      "Epoch 10/20\n",
      "1856/1856 [==============================] - 10s 6ms/sample - loss: 0.1514 - accuracy: 0.9456 - val_loss: 0.4246 - val_accuracy: 0.8750\n",
      "Epoch 11/20\n",
      "1856/1856 [==============================] - 10s 6ms/sample - loss: 0.1516 - accuracy: 0.9429 - val_loss: 0.4230 - val_accuracy: 0.8750\n",
      "Epoch 12/20\n",
      "1856/1856 [==============================] - 10s 6ms/sample - loss: 0.1303 - accuracy: 0.9553 - val_loss: 0.3366 - val_accuracy: 0.8879\n",
      "Epoch 13/20\n",
      "1856/1856 [==============================] - 10s 6ms/sample - loss: 0.0993 - accuracy: 0.9693 - val_loss: 0.4525 - val_accuracy: 0.8685\n",
      "Epoch 14/20\n",
      "1856/1856 [==============================] - 10s 6ms/sample - loss: 0.1277 - accuracy: 0.9607 - val_loss: 0.7216 - val_accuracy: 0.7694\n",
      "Epoch 15/20\n",
      "1856/1856 [==============================] - 10s 6ms/sample - loss: 0.1135 - accuracy: 0.9569 - val_loss: 0.4350 - val_accuracy: 0.8750\n",
      "Epoch 16/20\n",
      "1856/1856 [==============================] - 10s 6ms/sample - loss: 0.0828 - accuracy: 0.9736 - val_loss: 0.8200 - val_accuracy: 0.7780\n",
      "Epoch 17/20\n",
      "1856/1856 [==============================] - 10s 6ms/sample - loss: 0.0878 - accuracy: 0.9688 - val_loss: 0.9203 - val_accuracy: 0.8039\n",
      "Epoch 18/20\n",
      "1856/1856 [==============================] - 10s 6ms/sample - loss: 0.0833 - accuracy: 0.9741 - val_loss: 0.7168 - val_accuracy: 0.8297\n",
      "Epoch 19/20\n",
      "1856/1856 [==============================] - 10s 6ms/sample - loss: 0.0665 - accuracy: 0.9806 - val_loss: 0.4555 - val_accuracy: 0.8815\n",
      "Epoch 20/20\n",
      "1856/1856 [==============================] - 10s 6ms/sample - loss: 0.0382 - accuracy: 0.9860 - val_loss: 0.8226 - val_accuracy: 0.8341\n"
     ]
    }
   ],
   "source": [
    "# define hyperparameters\n",
    "conv_layer = 4\n",
    "layer_size = 128\n",
    "dense_layer = 1\n",
    "\n",
    "# name of model to keep track of changing model architectures\n",
    "NAME = '{}-conv-{}-nodes-{}-dense-{}'.format(conv_layer, layer_size, dense_layer, int(time.time()))\n",
    "    \n",
    "# create model and fit it\n",
    "model = create_model(conv_layer, layer_size, dense_layer)"
   ]
  },
  {
   "cell_type": "code",
   "execution_count": 11,
   "metadata": {},
   "outputs": [
    {
     "name": "stdout",
     "output_type": "stream",
     "text": [
      "accuracy: 86.05%\n"
     ]
    }
   ],
   "source": [
    "# evaluate the model\n",
    "scores = model.evaluate(X_validation, y_validation, verbose=0)\n",
    "print(\"%s: %.2f%%\" % (model.metrics_names[1], scores[1]*100))"
   ]
  },
  {
   "cell_type": "code",
   "execution_count": 12,
   "metadata": {},
   "outputs": [
    {
     "name": "stdout",
     "output_type": "stream",
     "text": [
      "WARNING:tensorflow:From /Users/ericnunn/opt/anaconda3/lib/python3.7/site-packages/tensorflow_core/python/ops/resource_variable_ops.py:1781: calling BaseResourceVariable.__init__ (from tensorflow.python.ops.resource_variable_ops) with constraint is deprecated and will be removed in a future version.\n",
      "Instructions for updating:\n",
      "If using Keras pass *_constraint arguments to layers.\n",
      "INFO:tensorflow:Assets written to: models/4-conv-128-nodes-1-dense-1575226904/assets\n"
     ]
    }
   ],
   "source": [
    "# save the model\n",
    "model.save('models/' + NAME)"
   ]
  },
  {
   "cell_type": "code",
   "execution_count": null,
   "metadata": {},
   "outputs": [],
   "source": []
  }
 ],
 "metadata": {
  "kernelspec": {
   "display_name": "Python 3",
   "language": "python",
   "name": "python3"
  },
  "language_info": {
   "codemirror_mode": {
    "name": "ipython",
    "version": 3
   },
   "file_extension": ".py",
   "mimetype": "text/x-python",
   "name": "python",
   "nbconvert_exporter": "python",
   "pygments_lexer": "ipython3",
   "version": "3.7.4"
  }
 },
 "nbformat": 4,
 "nbformat_minor": 2
}

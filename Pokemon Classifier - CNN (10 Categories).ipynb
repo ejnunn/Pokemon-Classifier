{
 "cells": [
  {
   "cell_type": "code",
   "execution_count": 1,
   "metadata": {},
   "outputs": [],
   "source": [
    "import tensorflow as tf\n",
    "from tensorflow.keras.models import Sequential\n",
    "from tensorflow.keras.layers import Dense, Dropout, Activation, Flatten, Conv2D, MaxPooling2D\n",
    "from tensorflow.keras.callbacks import TensorBoard\n",
    "import pickle\n",
    "import numpy as np\n",
    "import time"
   ]
  },
  {
   "cell_type": "code",
   "execution_count": 2,
   "metadata": {},
   "outputs": [
    {
     "name": "stdout",
     "output_type": "stream",
     "text": [
      "X_train.shape = (1488, 50, 50, 1)\n",
      "y_train.shape = (1488,)\n",
      "X_validation.shape = (166, 50, 50, 1)\n",
      "y_validation.shape = (166,)\n"
     ]
    }
   ],
   "source": [
    "# load dataset and labels\n",
    "X_train = pickle.load(open('pickle_data/X_train.pickle','rb'))\n",
    "y_train = pickle.load(open('pickle_data/y_train.pickle','rb'))\n",
    "\n",
    "# load validation dataset and labels\n",
    "X_validation = pickle.load(open('pickle_data/X_validation.pickle', 'rb'))\n",
    "y_validation = pickle.load(open('pickle_data/y_validation.pickle', 'rb'))\n",
    "\n",
    "print('X_train.shape =', X_train.shape)\n",
    "print('y_train.shape =', y_train.shape)\n",
    "print('X_validation.shape =', X_validation.shape)\n",
    "print('y_validation.shape =', y_validation.shape)"
   ]
  },
  {
   "cell_type": "code",
   "execution_count": 3,
   "metadata": {},
   "outputs": [],
   "source": [
    "# normalize pixel data\n",
    "X_train = X_train/255.0\n",
    "X_validation = X_validation/255.0"
   ]
  },
  {
   "cell_type": "code",
   "execution_count": 4,
   "metadata": {},
   "outputs": [],
   "source": [
    "# define hyperparameters\n",
    "conv_layer = 2\n",
    "layer_size = 64\n",
    "dense_layer = 0"
   ]
  },
  {
   "cell_type": "code",
   "execution_count": 6,
   "metadata": {
    "scrolled": true
   },
   "outputs": [
    {
     "name": "stdout",
     "output_type": "stream",
     "text": [
      "Train on 1190 samples, validate on 298 samples\n",
      "Epoch 1/20\n",
      "1190/1190 [==============================] - 4s 3ms/sample - loss: 1.7132 - accuracy: 0.3042 - val_loss: 1.3989 - val_accuracy: 0.4195\n",
      "Epoch 2/20\n",
      "1190/1190 [==============================] - 3s 3ms/sample - loss: 1.3449 - accuracy: 0.4563 - val_loss: 1.2205 - val_accuracy: 0.5268\n",
      "Epoch 3/20\n",
      "1190/1190 [==============================] - 3s 3ms/sample - loss: 1.1846 - accuracy: 0.5319 - val_loss: 1.0965 - val_accuracy: 0.5805\n",
      "Epoch 4/20\n",
      "1190/1190 [==============================] - 3s 3ms/sample - loss: 1.0329 - accuracy: 0.6227 - val_loss: 1.0967 - val_accuracy: 0.5470\n",
      "Epoch 5/20\n",
      "1190/1190 [==============================] - 3s 3ms/sample - loss: 0.9043 - accuracy: 0.6773 - val_loss: 1.0213 - val_accuracy: 0.6007\n",
      "Epoch 6/20\n",
      "1190/1190 [==============================] - 3s 3ms/sample - loss: 0.7747 - accuracy: 0.7176 - val_loss: 0.9699 - val_accuracy: 0.6174\n",
      "Epoch 7/20\n",
      "1190/1190 [==============================] - 3s 3ms/sample - loss: 0.6311 - accuracy: 0.7790 - val_loss: 1.0518 - val_accuracy: 0.6174\n",
      "Epoch 8/20\n",
      "1190/1190 [==============================] - 3s 3ms/sample - loss: 0.5027 - accuracy: 0.8261 - val_loss: 1.0065 - val_accuracy: 0.6275\n",
      "Epoch 9/20\n",
      "1190/1190 [==============================] - 3s 3ms/sample - loss: 0.3930 - accuracy: 0.8731 - val_loss: 1.0182 - val_accuracy: 0.6544\n",
      "Epoch 10/20\n",
      "1190/1190 [==============================] - 3s 3ms/sample - loss: 0.2800 - accuracy: 0.9210 - val_loss: 1.1584 - val_accuracy: 0.6342\n",
      "Epoch 11/20\n",
      "1190/1190 [==============================] - 3s 3ms/sample - loss: 0.2059 - accuracy: 0.9479 - val_loss: 1.2074 - val_accuracy: 0.6779\n",
      "Epoch 12/20\n",
      "1190/1190 [==============================] - 3s 3ms/sample - loss: 0.1608 - accuracy: 0.9681 - val_loss: 1.2004 - val_accuracy: 0.6644\n",
      "Epoch 13/20\n",
      "1190/1190 [==============================] - 3s 3ms/sample - loss: 0.1435 - accuracy: 0.9639 - val_loss: 1.4078 - val_accuracy: 0.6812\n",
      "Epoch 14/20\n",
      "1190/1190 [==============================] - 3s 2ms/sample - loss: 0.1113 - accuracy: 0.9773 - val_loss: 1.3152 - val_accuracy: 0.6678\n",
      "Epoch 15/20\n",
      "1190/1190 [==============================] - 3s 2ms/sample - loss: 0.0821 - accuracy: 0.9882 - val_loss: 1.3905 - val_accuracy: 0.6678\n",
      "Epoch 16/20\n",
      "1190/1190 [==============================] - 3s 2ms/sample - loss: 0.0837 - accuracy: 0.9849 - val_loss: 1.6429 - val_accuracy: 0.6477\n",
      "Epoch 17/20\n",
      "1190/1190 [==============================] - 3s 2ms/sample - loss: 0.0684 - accuracy: 0.9857 - val_loss: 1.5325 - val_accuracy: 0.6510\n",
      "Epoch 18/20\n",
      "1190/1190 [==============================] - 3s 3ms/sample - loss: 0.0747 - accuracy: 0.9899 - val_loss: 1.7392 - val_accuracy: 0.6376\n",
      "Epoch 19/20\n",
      "1190/1190 [==============================] - 3s 2ms/sample - loss: 0.0712 - accuracy: 0.9899 - val_loss: 1.5962 - val_accuracy: 0.6510\n",
      "Epoch 20/20\n",
      "1190/1190 [==============================] - 3s 3ms/sample - loss: 0.0638 - accuracy: 0.9933 - val_loss: 1.5582 - val_accuracy: 0.6477\n"
     ]
    },
    {
     "data": {
      "text/plain": [
       "<tensorflow.python.keras.callbacks.History at 0x13941bef0>"
      ]
     },
     "execution_count": 6,
     "metadata": {},
     "output_type": "execute_result"
    }
   ],
   "source": [
    "# name of model to keep track of changing model architectures\n",
    "NAME = '{}-conv-{}-nodes-{}-dense-{}'.format(conv_layer, layer_size, dense_layer, int(time.time()))\n",
    "# create a new log of the model to analyze results\n",
    "tensorboard = TensorBoard(log_dir='logs/{}'.format(NAME))\n",
    "\n",
    "# define model\n",
    "model = Sequential()\n",
    "\n",
    "# 1st convolution\n",
    "model.add(Conv2D(layer_size, (3,3), input_shape=X_train.shape[1:]))\n",
    "model.add(Activation('relu'))\n",
    "model.add(MaxPooling2D(pool_size=(2,2)))\n",
    "\n",
    "# add additional conv layers\n",
    "for _ in range(conv_layer-1):\n",
    "    # convolution\n",
    "    model.add(Conv2D(layer_size, (3,3)))\n",
    "    model.add(Activation('relu'))\n",
    "    # Max-Pool to reduce tensor size while retaining distict features\n",
    "    model.add(MaxPooling2D(pool_size=(2,2)))\n",
    "\n",
    "# flatten model for fully connected layers\n",
    "model.add(Flatten())\n",
    "\n",
    "# add dense layers\n",
    "for _ in range(dense_layer):\n",
    "    # fully-connected\n",
    "    model.add(Dense(layer_size))\n",
    "    model.add(Activation('relu'))\n",
    "\n",
    "# final fully-connected layer (151 matches number of Pokemon categories)\n",
    "model.add(Dense(151))\n",
    "model.add(Activation('softmax'))\n",
    "\n",
    "model.compile(loss='sparse_categorical_crossentropy',\n",
    "              optimizer='adam',\n",
    "              metrics=['accuracy'])\n",
    "\n",
    "model.fit(X_train, y_train, batch_size=16, epochs=20, validation_split=0.2, callbacks=[tensorboard])\n"
   ]
  },
  {
   "cell_type": "code",
   "execution_count": 7,
   "metadata": {},
   "outputs": [
    {
     "name": "stdout",
     "output_type": "stream",
     "text": [
      "accuracy: 66.27%\n"
     ]
    }
   ],
   "source": [
    "# evaluate the model\n",
    "scores = model.evaluate(X_validation, y_validation, verbose=0)\n",
    "print(\"%s: %.2f%%\" % (model.metrics_names[1], scores[1]*100))"
   ]
  },
  {
   "cell_type": "code",
   "execution_count": 8,
   "metadata": {},
   "outputs": [
    {
     "name": "stdout",
     "output_type": "stream",
     "text": [
      "WARNING:tensorflow:From /Library/Frameworks/Python.framework/Versions/3.7/lib/python3.7/site-packages/tensorflow_core/python/ops/resource_variable_ops.py:1781: calling BaseResourceVariable.__init__ (from tensorflow.python.ops.resource_variable_ops) with constraint is deprecated and will be removed in a future version.\n",
      "Instructions for updating:\n",
      "If using Keras pass *_constraint arguments to layers.\n",
      "INFO:tensorflow:Assets written to: models/2-conv-64-nodes-0-dense-1573176707/assets\n"
     ]
    }
   ],
   "source": [
    "# save the model\n",
    "model.save('models/' + NAME)"
   ]
  },
  {
   "cell_type": "code",
   "execution_count": null,
   "metadata": {},
   "outputs": [],
   "source": []
  }
 ],
 "metadata": {
  "kernelspec": {
   "display_name": "Python 3",
   "language": "python",
   "name": "python3"
  },
  "language_info": {
   "codemirror_mode": {
    "name": "ipython",
    "version": 3
   },
   "file_extension": ".py",
   "mimetype": "text/x-python",
   "name": "python",
   "nbconvert_exporter": "python",
   "pygments_lexer": "ipython3",
   "version": "3.7.2"
  }
 },
 "nbformat": 4,
 "nbformat_minor": 2
}

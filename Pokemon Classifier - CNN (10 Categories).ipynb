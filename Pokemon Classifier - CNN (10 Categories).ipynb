{
 "cells": [
  {
   "cell_type": "code",
   "execution_count": 10,
   "metadata": {},
   "outputs": [],
   "source": [
    "import tensorflow as tf\n",
    "from tensorflow.keras.models import Sequential\n",
    "from tensorflow.keras.layers import Dense, Dropout, Activation, Flatten, Conv2D, MaxPooling2D, BatchNormalization\n",
    "from tensorflow.keras.callbacks import TensorBoard\n",
    "import pickle\n",
    "import numpy as np\n",
    "import time"
   ]
  },
  {
   "cell_type": "code",
   "execution_count": 11,
   "metadata": {},
   "outputs": [
    {
     "name": "stdout",
     "output_type": "stream",
     "text": [
      "X_train.shape = (1902, 50, 50, 1)\n",
      "y_train.shape = (1902,)\n",
      "X_validation.shape = (212, 50, 50, 1)\n",
      "y_validation.shape = (212,)\n"
     ]
    }
   ],
   "source": [
    "# load dataset and labels\n",
    "X_train = pickle.load(open('pickle_data/X_train.pickle','rb'))\n",
    "y_train = pickle.load(open('pickle_data/y_train.pickle','rb'))\n",
    "\n",
    "# load validation dataset and labels\n",
    "X_validation = pickle.load(open('pickle_data/X_validation.pickle', 'rb'))\n",
    "y_validation = pickle.load(open('pickle_data/y_validation.pickle', 'rb'))\n",
    "\n",
    "print('X_train.shape =', X_train.shape)\n",
    "print('y_train.shape =', y_train.shape)\n",
    "print('X_validation.shape =', X_validation.shape)\n",
    "print('y_validation.shape =', y_validation.shape)"
   ]
  },
  {
   "cell_type": "code",
   "execution_count": 12,
   "metadata": {},
   "outputs": [],
   "source": [
    "# normalize pixel data\n",
    "X_train = X_train/255.0\n",
    "X_validation = X_validation/255.0"
   ]
  },
  {
   "cell_type": "code",
   "execution_count": 13,
   "metadata": {},
   "outputs": [],
   "source": [
    "# define hyperparameters\n",
    "conv_layer = 2\n",
    "layer_size = 64\n",
    "dense_layer = 0"
   ]
  },
  {
   "cell_type": "code",
   "execution_count": 14,
   "metadata": {
    "scrolled": true
   },
   "outputs": [
    {
     "name": "stdout",
     "output_type": "stream",
     "text": [
      "Train on 1521 samples, validate on 381 samples\n",
      "Epoch 1/20\n",
      "1521/1521 [==============================] - 5s 3ms/sample - loss: 1.5325 - accuracy: 0.4234 - val_loss: 2.3429 - val_accuracy: 0.3123\n",
      "Epoch 2/20\n",
      "1521/1521 [==============================] - 4s 3ms/sample - loss: 0.9934 - accuracy: 0.6246 - val_loss: 1.9321 - val_accuracy: 0.2861\n",
      "Epoch 3/20\n",
      "1521/1521 [==============================] - 4s 3ms/sample - loss: 0.7414 - accuracy: 0.7232 - val_loss: 1.5759 - val_accuracy: 0.4567\n",
      "Epoch 4/20\n",
      "1521/1521 [==============================] - 4s 3ms/sample - loss: 0.5157 - accuracy: 0.8166 - val_loss: 1.4128 - val_accuracy: 0.4829\n",
      "Epoch 5/20\n",
      "1521/1521 [==============================] - 4s 3ms/sample - loss: 0.3627 - accuracy: 0.8856 - val_loss: 1.0261 - val_accuracy: 0.6115\n",
      "Epoch 6/20\n",
      "1521/1521 [==============================] - 4s 3ms/sample - loss: 0.3059 - accuracy: 0.9027 - val_loss: 1.2337 - val_accuracy: 0.6089\n",
      "Epoch 7/20\n",
      "1521/1521 [==============================] - 4s 3ms/sample - loss: 0.1811 - accuracy: 0.9507 - val_loss: 1.5163 - val_accuracy: 0.5722\n",
      "Epoch 8/20\n",
      "1521/1521 [==============================] - 4s 3ms/sample - loss: 0.1095 - accuracy: 0.9783 - val_loss: 1.5424 - val_accuracy: 0.6352\n",
      "Epoch 9/20\n",
      "1521/1521 [==============================] - 4s 3ms/sample - loss: 0.0867 - accuracy: 0.9862 - val_loss: 1.3750 - val_accuracy: 0.6562\n",
      "Epoch 10/20\n",
      "1521/1521 [==============================] - 4s 3ms/sample - loss: 0.1691 - accuracy: 0.9573 - val_loss: 1.8736 - val_accuracy: 0.5853\n",
      "Epoch 11/20\n",
      "1521/1521 [==============================] - 4s 3ms/sample - loss: 0.1439 - accuracy: 0.9612 - val_loss: 2.0525 - val_accuracy: 0.5722\n",
      "Epoch 12/20\n",
      "1521/1521 [==============================] - 4s 3ms/sample - loss: 0.1369 - accuracy: 0.9658 - val_loss: 1.7516 - val_accuracy: 0.6247\n",
      "Epoch 13/20\n",
      "1521/1521 [==============================] - 4s 3ms/sample - loss: 0.0782 - accuracy: 0.9836 - val_loss: 1.9359 - val_accuracy: 0.5853\n",
      "Epoch 14/20\n",
      "1521/1521 [==============================] - 4s 3ms/sample - loss: 0.0596 - accuracy: 0.9921 - val_loss: 1.8392 - val_accuracy: 0.6142\n",
      "Epoch 15/20\n",
      "1521/1521 [==============================] - 4s 3ms/sample - loss: 0.0808 - accuracy: 0.9895 - val_loss: 1.9304 - val_accuracy: 0.6194\n",
      "Epoch 16/20\n",
      "1521/1521 [==============================] - 4s 3ms/sample - loss: 0.0518 - accuracy: 0.9908 - val_loss: 1.9626 - val_accuracy: 0.6378\n",
      "Epoch 17/20\n",
      "1521/1521 [==============================] - 4s 3ms/sample - loss: 0.0692 - accuracy: 0.9888 - val_loss: 2.1193 - val_accuracy: 0.6220\n",
      "Epoch 18/20\n",
      "1521/1521 [==============================] - 4s 3ms/sample - loss: 0.4807 - accuracy: 0.8685 - val_loss: 2.0345 - val_accuracy: 0.5906\n",
      "Epoch 19/20\n",
      "1521/1521 [==============================] - 4s 3ms/sample - loss: 0.2223 - accuracy: 0.9435 - val_loss: 2.1310 - val_accuracy: 0.6063\n",
      "Epoch 20/20\n",
      "1521/1521 [==============================] - 4s 3ms/sample - loss: 0.1574 - accuracy: 0.9717 - val_loss: 2.0456 - val_accuracy: 0.6115\n"
     ]
    },
    {
     "data": {
      "text/plain": [
       "<tensorflow.python.keras.callbacks.History at 0x632fafd50>"
      ]
     },
     "execution_count": 14,
     "metadata": {},
     "output_type": "execute_result"
    }
   ],
   "source": [
    "# name of model to keep track of changing model architectures\n",
    "NAME = '{}-conv-{}-nodes-{}-dense-{}'.format(conv_layer, layer_size, dense_layer, int(time.time()))\n",
    "# create a new log of the model to analyze results\n",
    "tensorboard = TensorBoard(log_dir='logs/{}'.format(NAME))\n",
    "\n",
    "# define model\n",
    "model = Sequential()\n",
    "\n",
    "# 1st convolution\n",
    "model.add(Conv2D(layer_size, (3,3), input_shape=X_train.shape[1:]))\n",
    "model.add(Activation('relu'))\n",
    "model.add(MaxPooling2D(pool_size=(2,2)))\n",
    "\n",
    "# add additional conv layers\n",
    "for _ in range(conv_layer-1):\n",
    "    # convolution\n",
    "    model.add(Conv2D(layer_size, (3,3)))\n",
    "    model.add(Activation('relu'))\n",
    "    model.add(BatchNormalization())\n",
    "    # Max-Pool to reduce tensor size while retaining distict features\n",
    "    model.add(MaxPooling2D(pool_size=(2,2)))\n",
    "\n",
    "# flatten model for fully connected layers\n",
    "model.add(Flatten())\n",
    "\n",
    "# add dense layers\n",
    "for _ in range(dense_layer):\n",
    "    # fully-connected\n",
    "    model.add(Dense(layer_size))\n",
    "    model.add(Activation('relu'))\n",
    "\n",
    "# final fully-connected layer (151 matches number of Pokemon categories)\n",
    "model.add(Dense(151))\n",
    "model.add(Activation('softmax'))\n",
    "\n",
    "model.compile(loss='sparse_categorical_crossentropy',\n",
    "              optimizer='adam',\n",
    "              metrics=['accuracy'])\n",
    "\n",
    "model.fit(X_train, y_train, batch_size=16, epochs=20, validation_split=0.2, callbacks=[tensorboard])\n"
   ]
  },
  {
   "cell_type": "code",
   "execution_count": 16,
   "metadata": {},
   "outputs": [
    {
     "name": "stdout",
     "output_type": "stream",
     "text": [
      "accuracy: 65.57%\n"
     ]
    }
   ],
   "source": [
    "# evaluate the model\n",
    "scores = model.evaluate(X_validation, y_validation, verbose=0)\n",
    "print(\"%s: %.2f%%\" % (model.metrics_names[1], scores[1]*100))"
   ]
  },
  {
   "cell_type": "code",
   "execution_count": 17,
   "metadata": {},
   "outputs": [
    {
     "name": "stdout",
     "output_type": "stream",
     "text": [
      "INFO:tensorflow:Assets written to: models/2-conv-64-nodes-0-dense-1574030078/assets\n"
     ]
    }
   ],
   "source": [
    "# save the model\n",
    "model.save('models/' + NAME)"
   ]
  },
  {
   "cell_type": "code",
   "execution_count": null,
   "metadata": {},
   "outputs": [],
   "source": []
  }
 ],
 "metadata": {
  "kernelspec": {
   "display_name": "Python 3",
   "language": "python",
   "name": "python3"
  },
  "language_info": {
   "codemirror_mode": {
    "name": "ipython",
    "version": 3
   },
   "file_extension": ".py",
   "mimetype": "text/x-python",
   "name": "python",
   "nbconvert_exporter": "python",
   "pygments_lexer": "ipython3",
   "version": "3.7.4"
  }
 },
 "nbformat": 4,
 "nbformat_minor": 2
}

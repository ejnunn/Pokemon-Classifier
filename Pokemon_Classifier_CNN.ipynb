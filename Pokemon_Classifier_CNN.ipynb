{
 "cells": [
  {
   "cell_type": "code",
   "execution_count": 38,
   "metadata": {},
   "outputs": [],
   "source": [
    "import tensorflow as tf\n",
    "from tensorflow.keras.models import Sequential\n",
    "from tensorflow.keras.layers import Dense, Dropout, Activation, Flatten, Conv2D, MaxPooling2D, BatchNormalization\n",
    "from tensorflow.keras.callbacks import TensorBoard\n",
    "import pickle\n",
    "import numpy as np\n",
    "import time"
   ]
  },
  {
   "cell_type": "code",
   "execution_count": 39,
   "metadata": {},
   "outputs": [
    {
     "name": "stdout",
     "output_type": "stream",
     "text": [
      "X_train.shape = (2320, 50, 50, 3)\n",
      "y_train.shape = (2320,)\n",
      "X_validation.shape = (258, 50, 50, 3)\n",
      "y_validation.shape = (258,)\n"
     ]
    }
   ],
   "source": [
    "# load dataset and labels\n",
    "X_train = pickle.load(open('pickle_data/X_train.pickle','rb'))\n",
    "y_train = pickle.load(open('pickle_data/y_train.pickle','rb'))\n",
    "\n",
    "# load validation dataset and labels\n",
    "X_validation = pickle.load(open('pickle_data/X_validation.pickle', 'rb'))\n",
    "y_validation = pickle.load(open('pickle_data/y_validation.pickle', 'rb'))\n",
    "\n",
    "print('X_train.shape =', X_train.shape)\n",
    "print('y_train.shape =', y_train.shape)\n",
    "print('X_validation.shape =', X_validation.shape)\n",
    "print('y_validation.shape =', y_validation.shape)"
   ]
  },
  {
   "cell_type": "code",
   "execution_count": 40,
   "metadata": {},
   "outputs": [],
   "source": [
    "# normalize pixel data\n",
    "X_train = X_train/255.0\n",
    "X_validation = X_validation/255.0"
   ]
  },
  {
   "cell_type": "code",
   "execution_count": 41,
   "metadata": {},
   "outputs": [],
   "source": [
    "# define hyperparameters\n",
    "conv_layer = 4\n",
    "layer_size = 128\n",
    "dense_layer = 0"
   ]
  },
  {
   "cell_type": "code",
   "execution_count": 42,
   "metadata": {
    "scrolled": true
   },
   "outputs": [
    {
     "name": "stdout",
     "output_type": "stream",
     "text": [
      "Train on 1856 samples, validate on 464 samples\n",
      "Epoch 1/20\n",
      "1856/1856 [==============================] - 12s 6ms/sample - loss: 0.8399 - accuracy: 0.7144 - val_loss: 1.2004 - val_accuracy: 0.5323\n",
      "Epoch 2/20\n",
      "1856/1856 [==============================] - 11s 6ms/sample - loss: 0.4750 - accuracy: 0.8324 - val_loss: 0.9531 - val_accuracy: 0.6681\n",
      "Epoch 3/20\n",
      "1856/1856 [==============================] - 12s 6ms/sample - loss: 0.4200 - accuracy: 0.8508 - val_loss: 1.1644 - val_accuracy: 0.5453\n",
      "Epoch 4/20\n",
      "1856/1856 [==============================] - 11s 6ms/sample - loss: 0.3299 - accuracy: 0.8874 - val_loss: 0.4309 - val_accuracy: 0.8750\n",
      "Epoch 5/20\n",
      "1856/1856 [==============================] - 11s 6ms/sample - loss: 0.2619 - accuracy: 0.9111 - val_loss: 0.7193 - val_accuracy: 0.7974\n",
      "Epoch 6/20\n",
      "1856/1856 [==============================] - 11s 6ms/sample - loss: 0.2278 - accuracy: 0.9203 - val_loss: 0.5062 - val_accuracy: 0.8082\n",
      "Epoch 7/20\n",
      "1856/1856 [==============================] - 11s 6ms/sample - loss: 0.1798 - accuracy: 0.9370 - val_loss: 0.4912 - val_accuracy: 0.8276\n",
      "Epoch 8/20\n",
      "1856/1856 [==============================] - 11s 6ms/sample - loss: 0.1881 - accuracy: 0.9375 - val_loss: 0.7361 - val_accuracy: 0.8082\n",
      "Epoch 9/20\n",
      "1856/1856 [==============================] - 11s 6ms/sample - loss: 0.1361 - accuracy: 0.9520 - val_loss: 0.7455 - val_accuracy: 0.7802\n",
      "Epoch 10/20\n",
      "1856/1856 [==============================] - 11s 6ms/sample - loss: 0.1418 - accuracy: 0.9537 - val_loss: 1.4823 - val_accuracy: 0.6185\n",
      "Epoch 11/20\n",
      "1856/1856 [==============================] - 12s 6ms/sample - loss: 0.1199 - accuracy: 0.9644 - val_loss: 0.3896 - val_accuracy: 0.8966\n",
      "Epoch 12/20\n",
      "1856/1856 [==============================] - 11s 6ms/sample - loss: 0.1195 - accuracy: 0.9634 - val_loss: 0.3778 - val_accuracy: 0.8944\n",
      "Epoch 13/20\n",
      "1856/1856 [==============================] - 11s 6ms/sample - loss: 0.1149 - accuracy: 0.9628 - val_loss: 0.6907 - val_accuracy: 0.7909\n",
      "Epoch 14/20\n",
      "1856/1856 [==============================] - 11s 6ms/sample - loss: 0.0784 - accuracy: 0.9795 - val_loss: 0.5909 - val_accuracy: 0.8319\n",
      "Epoch 15/20\n",
      "1856/1856 [==============================] - 11s 6ms/sample - loss: 0.0660 - accuracy: 0.9817 - val_loss: 0.3700 - val_accuracy: 0.8987\n",
      "Epoch 16/20\n",
      "1856/1856 [==============================] - 11s 6ms/sample - loss: 0.0687 - accuracy: 0.9784 - val_loss: 0.9484 - val_accuracy: 0.7608\n",
      "Epoch 17/20\n",
      "1856/1856 [==============================] - 11s 6ms/sample - loss: 0.0946 - accuracy: 0.9725 - val_loss: 0.3675 - val_accuracy: 0.8944\n",
      "Epoch 18/20\n",
      "1856/1856 [==============================] - 11s 6ms/sample - loss: 0.0844 - accuracy: 0.9784 - val_loss: 0.8549 - val_accuracy: 0.7802\n",
      "Epoch 19/20\n",
      "1856/1856 [==============================] - 11s 6ms/sample - loss: 0.0739 - accuracy: 0.9779 - val_loss: 0.3078 - val_accuracy: 0.9138\n",
      "Epoch 20/20\n",
      "1856/1856 [==============================] - 11s 6ms/sample - loss: 0.0705 - accuracy: 0.9811 - val_loss: 0.3706 - val_accuracy: 0.8815\n"
     ]
    },
    {
     "data": {
      "text/plain": [
       "<tensorflow.python.keras.callbacks.History at 0x63e5e37d0>"
      ]
     },
     "execution_count": 42,
     "metadata": {},
     "output_type": "execute_result"
    }
   ],
   "source": [
    "# name of model to keep track of changing model architectures\n",
    "NAME = '{}-conv-{}-nodes-{}-dense-{}'.format(conv_layer, layer_size, dense_layer, int(time.time()))\n",
    "# create a new log of the model to analyze results\n",
    "tensorboard = TensorBoard(log_dir='logs/{}'.format(NAME))\n",
    "\n",
    "# define model\n",
    "model = Sequential()\n",
    "\n",
    "# 1st convolution\n",
    "model.add(Conv2D(layer_size, (3,3), input_shape=X_train.shape[1:]))\n",
    "model.add(Activation('relu'))\n",
    "model.add(MaxPooling2D(pool_size=(2,2)))\n",
    "\n",
    "# add additional conv layers\n",
    "for _ in range(conv_layer-1):\n",
    "    # convolution\n",
    "    model.add(Conv2D(layer_size, (3,3)))\n",
    "    model.add(Activation('relu'))\n",
    "    model.add(BatchNormalization())\n",
    "    # Max-Pool to reduce tensor size while retaining distict features\n",
    "    model.add(MaxPooling2D(pool_size=(2,2)))\n",
    "\n",
    "# flatten model for fully connected layers\n",
    "model.add(Flatten())\n",
    "\n",
    "# add dense layers\n",
    "for _ in range(dense_layer):\n",
    "    # fully-connected\n",
    "    model.add(Dense(layer_size))\n",
    "    model.add(Activation('relu'))\n",
    "\n",
    "# final fully-connected layer (5 matches number of Pokemon categories)\n",
    "model.add(Dense(5))\n",
    "model.add(Activation('softmax'))\n",
    "\n",
    "model.compile(loss='sparse_categorical_crossentropy',\n",
    "              optimizer='adam',\n",
    "              metrics=['accuracy'])\n",
    "\n",
    "model.fit(X_train, y_train, batch_size=16, epochs=20, validation_split=0.2, callbacks=[tensorboard])\n"
   ]
  },
  {
   "cell_type": "code",
   "execution_count": 43,
   "metadata": {},
   "outputs": [
    {
     "name": "stdout",
     "output_type": "stream",
     "text": [
      "accuracy: 89.92%\n"
     ]
    }
   ],
   "source": [
    "# evaluate the model\n",
    "scores = model.evaluate(X_validation, y_validation, verbose=0)\n",
    "print(\"%s: %.2f%%\" % (model.metrics_names[1], scores[1]*100))"
   ]
  },
  {
   "cell_type": "code",
   "execution_count": 13,
   "metadata": {},
   "outputs": [
    {
     "name": "stdout",
     "output_type": "stream",
     "text": [
      "WARNING:tensorflow:From /Users/ericnunn/opt/anaconda3/lib/python3.7/site-packages/tensorflow_core/python/ops/resource_variable_ops.py:1781: calling BaseResourceVariable.__init__ (from tensorflow.python.ops.resource_variable_ops) with constraint is deprecated and will be removed in a future version.\n",
      "Instructions for updating:\n",
      "If using Keras pass *_constraint arguments to layers.\n",
      "INFO:tensorflow:Assets written to: models/2-conv-128-nodes-1-dense-1574830346/assets\n"
     ]
    }
   ],
   "source": [
    "# save the model\n",
    "model.save('models/' + NAME)"
   ]
  },
  {
   "cell_type": "code",
   "execution_count": null,
   "metadata": {},
   "outputs": [],
   "source": []
  }
 ],
 "metadata": {
  "kernelspec": {
   "display_name": "Python 3",
   "language": "python",
   "name": "python3"
  },
  "language_info": {
   "codemirror_mode": {
    "name": "ipython",
    "version": 3
   },
   "file_extension": ".py",
   "mimetype": "text/x-python",
   "name": "python",
   "nbconvert_exporter": "python",
   "pygments_lexer": "ipython3",
   "version": "3.7.4"
  }
 },
 "nbformat": 4,
 "nbformat_minor": 2
}

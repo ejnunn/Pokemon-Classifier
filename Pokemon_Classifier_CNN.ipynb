{
 "cells": [
  {
   "cell_type": "code",
   "execution_count": 1,
   "metadata": {},
   "outputs": [],
   "source": [
    "import tensorflow as tf\n",
    "from tensorflow.keras.models import Sequential\n",
    "from tensorflow.keras.layers import Dense, Dropout, Activation, Flatten, Conv2D, MaxPooling2D, BatchNormalization\n",
    "from tensorflow.keras.callbacks import TensorBoard\n",
    "import pickle\n",
    "import numpy as np\n",
    "import time\n",
    "import datetime\n",
    "%load_ext tensorboard"
   ]
  },
  {
   "cell_type": "code",
   "execution_count": 3,
   "metadata": {
    "scrolled": true
   },
   "outputs": [
    {
     "name": "stdout",
     "output_type": "stream",
     "text": [
      "X_train.shape = (2320, 50, 50, 3)\n",
      "y_train.shape = (2320,)\n",
      "X_test.shape = (258, 50, 50, 3)\n",
      "y_test.shape = (258,)\n"
     ]
    }
   ],
   "source": [
    "# load dataset and labels\n",
    "X_train = pickle.load(open('pickle_data/X_train.pickle','rb'))\n",
    "y_train = pickle.load(open('pickle_data/y_train.pickle','rb'))\n",
    "\n",
    "# load validation dataset and labels\n",
    "X_test = pickle.load(open('pickle_data/X_test.pickle', 'rb'))\n",
    "y_test = pickle.load(open('pickle_data/y_test.pickle', 'rb'))\n",
    "\n",
    "print('X_train.shape =', X_train.shape)\n",
    "print('y_train.shape =', y_train.shape)\n",
    "print('X_test.shape =', X_test.shape)\n",
    "print('y_test.shape =', y_test.shape)"
   ]
  },
  {
   "cell_type": "code",
   "execution_count": 6,
   "metadata": {},
   "outputs": [],
   "source": [
    "# normalize pixel data\n",
    "X_train = X_train/255.0\n",
    "X_test = X_test/255.0"
   ]
  },
  {
   "cell_type": "code",
   "execution_count": 7,
   "metadata": {},
   "outputs": [],
   "source": [
    "def create_model(conv_layer, layer_size, dense_layer):\n",
    "    # create a new log of the model to analyze results\n",
    "    tensorboard = TensorBoard(log_dir='logs/{}'.format(NAME))\n",
    "\n",
    "    # define model\n",
    "    model = Sequential()\n",
    "\n",
    "    # 1st convolution\n",
    "    model.add(Conv2D(layer_size, (3,3), input_shape=X_train.shape[1:]))\n",
    "    model.add(Activation('relu'))\n",
    "    model.add(MaxPooling2D(pool_size=(2,2)))\n",
    "\n",
    "    # add additional conv layers\n",
    "    for _ in range(conv_layer-1):\n",
    "        # convolution\n",
    "        model.add(Conv2D(layer_size, (3,3)))\n",
    "        model.add(Activation('relu'))\n",
    "        model.add(BatchNormalization())\n",
    "        # Max-Pool to reduce tensor size while retaining distict features\n",
    "        model.add(MaxPooling2D(pool_size=(2,2)))\n",
    "\n",
    "    # flatten model for fully connected layers\n",
    "    model.add(Flatten())\n",
    "\n",
    "    # add dense layers\n",
    "    for _ in range(dense_layer):\n",
    "        # fully-connected\n",
    "        model.add(Dense(layer_size))\n",
    "        model.add(Activation('relu'))\n",
    "\n",
    "    # final fully-connected layer (5 matches number of Pokemon categories)\n",
    "    model.add(Dense(5))\n",
    "    model.add(Activation('softmax'))\n",
    "\n",
    "    model.compile(loss='sparse_categorical_crossentropy',\n",
    "                  optimizer='adam',\n",
    "                  metrics=['accuracy'])\n",
    "\n",
    "    log_dir=\"logs/fit/\" + datetime.datetime.now().strftime(\"%Y%m%d-%H%M%S\")\n",
    "    tensorboard_callback = tf.keras.callbacks.TensorBoard(log_dir=log_dir, histogram_freq=1)\n",
    "\n",
    "    # fit the model to the training data\n",
    "    model.fit(X_train, y_train, batch_size=16, epochs=20, validation_split=0.2, callbacks=[tensorboard])\n",
    "    \n",
    "    return model"
   ]
  },
  {
   "cell_type": "code",
   "execution_count": null,
   "metadata": {
    "scrolled": true
   },
   "outputs": [],
   "source": [
    "# define hyperparameters\n",
    "conv_layer = 14\n",
    "layer_size = 64\n",
    "dense_layer = 2\n",
    "\n",
    "# name of model to keep track of changing model architectures\n",
    "NAME = '{}-conv-{}-nodes-{}-dense-{}'.format(conv_layer, layer_size, dense_layer, int(time.time()))\n",
    "    \n",
    "# create model and fit it\n",
    "model = create_model(conv_layer, layer_size, dense_layer)"
   ]
  },
  {
   "cell_type": "code",
   "execution_count": 11,
   "metadata": {},
   "outputs": [
    {
     "name": "stdout",
     "output_type": "stream",
     "text": [
      "accuracy: 86.05%\n"
     ]
    }
   ],
   "source": [
    "# evaluate the model\n",
    "scores = model.evaluate(X_validation, y_validation, verbose=0)\n",
    "print(\"%s: %.2f%%\" % (model.metrics_names[1], scores[1]*100))"
   ]
  },
  {
   "cell_type": "code",
   "execution_count": 12,
   "metadata": {},
   "outputs": [
    {
     "name": "stdout",
     "output_type": "stream",
     "text": [
      "WARNING:tensorflow:From /Users/ericnunn/opt/anaconda3/lib/python3.7/site-packages/tensorflow_core/python/ops/resource_variable_ops.py:1781: calling BaseResourceVariable.__init__ (from tensorflow.python.ops.resource_variable_ops) with constraint is deprecated and will be removed in a future version.\n",
      "Instructions for updating:\n",
      "If using Keras pass *_constraint arguments to layers.\n",
      "INFO:tensorflow:Assets written to: models/4-conv-128-nodes-1-dense-1575226904/assets\n"
     ]
    }
   ],
   "source": [
    "# save the model\n",
    "model.save('models/' + NAME)"
   ]
  },
  {
   "cell_type": "code",
   "execution_count": null,
   "metadata": {},
   "outputs": [],
   "source": []
  }
 ],
 "metadata": {
  "kernelspec": {
   "display_name": "Python 3",
   "language": "python",
   "name": "python3"
  },
  "language_info": {
   "codemirror_mode": {
    "name": "ipython",
    "version": 3
   },
   "file_extension": ".py",
   "mimetype": "text/x-python",
   "name": "python",
   "nbconvert_exporter": "python",
   "pygments_lexer": "ipython3",
   "version": "3.7.4"
  }
 },
 "nbformat": 4,
 "nbformat_minor": 2
}
